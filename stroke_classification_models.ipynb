{
 "cells": [
  {
   "cell_type": "markdown",
   "id": "e256bac1-706a-44e6-9816-963ea3461571",
   "metadata": {},
   "source": [
    "# Stroke Prediction Dataset\n",
    "\n",
    "Link para acessar as informações sobre os dados [aqui](https://www.kaggle.com/datasets/fedesoriano/stroke-prediction-dataset)\n",
    "\n",
    "## Objetivo\n",
    "Tenho como intuito realizar uma breve exploração e visualização dos dados, para em seguida dar início ao pré-processamento, selecionar os melhores parâmetros para cada modelo e dar início ao treinamento dos modelos, para enfim testar os melhores modelos e dizer ao final qual o modelo que melhor se adaptou a esses dados.\n",
    "\n",
    "Os modelos que serão testados e treinados serão:\n",
    "\n",
    "- Decision Tree\n",
    "- Random Forest\n",
    "- KNN\n",
    "- Regressão Logística\n",
    "- SVM\n",
    "\n",
    "## Explicação das variáveis desse conjunto de dados\n",
    "\n",
    "1. id: identificador único (será retirado do banco de dados por não servir de nada nessa análise)\n",
    "2. gender: pode ser \"masculino\", \"feminino\" ou \"outros\"\n",
    "3. age: idade do paciente\n",
    "4. hypertension: 0 se o paciente não tem hipertensão e 1 se o paciente tem hipertensão\n",
    "5. heart_disease: 0 se o paciente não tiver nenhuma doença cardíaca e 1 se o paciente tiver alguma doença cardíaca\n",
    "6. ever_married: se já foi casado ou não\n",
    "7. work_type: tipo de emprego\n",
    "8. Residence_type: zona rural ou zona urbana\n",
    "9. avg_glucose_level: nível médio de glicose no sangue\n",
    "10. bmi: índice de massa corporal (IMC)\n",
    "11. smoking_status: paara saber se o paciente é um fumante, se é um ex-fumante, se nunca fumou ou \"desconhecido\"\n",
    "12. stroke: 1 se o paciente teve AVC e 0 se o paciente não teve AVC\n",
    "\n",
    "**Observação**: \"desconhecido\" na variável *smoke_status* significa que essa informação não está disponível para este paciente."
   ]
  },
  {
   "cell_type": "markdown",
   "id": "f40a345a-afe1-4c3a-bfdc-26066946aa66",
   "metadata": {},
   "source": [
    "# Importação das bibliotecas principais"
   ]
  },
  {
   "cell_type": "code",
   "execution_count": 1,
   "id": "7716ee93-3821-4630-9dc6-a1f9405f00d7",
   "metadata": {},
   "outputs": [],
   "source": [
    "import math\n",
    "import pandas as pd\n",
    "import numpy as np\n",
    "import seaborn as sns\n",
    "import matplotlib.pyplot as plt\n",
    "import plotly.express as px"
   ]
  },
  {
   "cell_type": "markdown",
   "id": "ff4aa161-bfc7-4a4f-95a2-0a3bbc8f77e8",
   "metadata": {},
   "source": [
    "# Carregando os dados"
   ]
  },
  {
   "cell_type": "code",
   "execution_count": 110,
   "id": "7b63fa5b-f529-45fa-ba56-29d22d44e0b6",
   "metadata": {},
   "outputs": [],
   "source": [
    "df = pd.read_csv('C:/Users/jeffe/Documents/healthcare-dataset-stroke-data.csv')"
   ]
  },
  {
   "cell_type": "markdown",
   "id": "7301abd3-4fb5-48c6-8f38-62e53e9a882f",
   "metadata": {},
   "source": [
    "# Exploração dos dados"
   ]
  },
  {
   "cell_type": "code",
   "execution_count": 111,
   "id": "83045220-76d8-4880-bf25-6eabdcecdef8",
   "metadata": {},
   "outputs": [
    {
     "data": {
      "text/html": [
       "<div>\n",
       "<style scoped>\n",
       "    .dataframe tbody tr th:only-of-type {\n",
       "        vertical-align: middle;\n",
       "    }\n",
       "\n",
       "    .dataframe tbody tr th {\n",
       "        vertical-align: top;\n",
       "    }\n",
       "\n",
       "    .dataframe thead th {\n",
       "        text-align: right;\n",
       "    }\n",
       "</style>\n",
       "<table border=\"1\" class=\"dataframe\">\n",
       "  <thead>\n",
       "    <tr style=\"text-align: right;\">\n",
       "      <th></th>\n",
       "      <th>id</th>\n",
       "      <th>gender</th>\n",
       "      <th>age</th>\n",
       "      <th>hypertension</th>\n",
       "      <th>heart_disease</th>\n",
       "      <th>ever_married</th>\n",
       "      <th>work_type</th>\n",
       "      <th>Residence_type</th>\n",
       "      <th>avg_glucose_level</th>\n",
       "      <th>bmi</th>\n",
       "      <th>smoking_status</th>\n",
       "      <th>stroke</th>\n",
       "    </tr>\n",
       "  </thead>\n",
       "  <tbody>\n",
       "    <tr>\n",
       "      <th>0</th>\n",
       "      <td>9046</td>\n",
       "      <td>Male</td>\n",
       "      <td>67.0</td>\n",
       "      <td>0</td>\n",
       "      <td>1</td>\n",
       "      <td>Yes</td>\n",
       "      <td>Private</td>\n",
       "      <td>Urban</td>\n",
       "      <td>228.69</td>\n",
       "      <td>36.6</td>\n",
       "      <td>formerly smoked</td>\n",
       "      <td>1</td>\n",
       "    </tr>\n",
       "    <tr>\n",
       "      <th>1</th>\n",
       "      <td>51676</td>\n",
       "      <td>Female</td>\n",
       "      <td>61.0</td>\n",
       "      <td>0</td>\n",
       "      <td>0</td>\n",
       "      <td>Yes</td>\n",
       "      <td>Self-employed</td>\n",
       "      <td>Rural</td>\n",
       "      <td>202.21</td>\n",
       "      <td>NaN</td>\n",
       "      <td>never smoked</td>\n",
       "      <td>1</td>\n",
       "    </tr>\n",
       "    <tr>\n",
       "      <th>2</th>\n",
       "      <td>31112</td>\n",
       "      <td>Male</td>\n",
       "      <td>80.0</td>\n",
       "      <td>0</td>\n",
       "      <td>1</td>\n",
       "      <td>Yes</td>\n",
       "      <td>Private</td>\n",
       "      <td>Rural</td>\n",
       "      <td>105.92</td>\n",
       "      <td>32.5</td>\n",
       "      <td>never smoked</td>\n",
       "      <td>1</td>\n",
       "    </tr>\n",
       "    <tr>\n",
       "      <th>3</th>\n",
       "      <td>60182</td>\n",
       "      <td>Female</td>\n",
       "      <td>49.0</td>\n",
       "      <td>0</td>\n",
       "      <td>0</td>\n",
       "      <td>Yes</td>\n",
       "      <td>Private</td>\n",
       "      <td>Urban</td>\n",
       "      <td>171.23</td>\n",
       "      <td>34.4</td>\n",
       "      <td>smokes</td>\n",
       "      <td>1</td>\n",
       "    </tr>\n",
       "    <tr>\n",
       "      <th>4</th>\n",
       "      <td>1665</td>\n",
       "      <td>Female</td>\n",
       "      <td>79.0</td>\n",
       "      <td>1</td>\n",
       "      <td>0</td>\n",
       "      <td>Yes</td>\n",
       "      <td>Self-employed</td>\n",
       "      <td>Rural</td>\n",
       "      <td>174.12</td>\n",
       "      <td>24.0</td>\n",
       "      <td>never smoked</td>\n",
       "      <td>1</td>\n",
       "    </tr>\n",
       "    <tr>\n",
       "      <th>...</th>\n",
       "      <td>...</td>\n",
       "      <td>...</td>\n",
       "      <td>...</td>\n",
       "      <td>...</td>\n",
       "      <td>...</td>\n",
       "      <td>...</td>\n",
       "      <td>...</td>\n",
       "      <td>...</td>\n",
       "      <td>...</td>\n",
       "      <td>...</td>\n",
       "      <td>...</td>\n",
       "      <td>...</td>\n",
       "    </tr>\n",
       "    <tr>\n",
       "      <th>5105</th>\n",
       "      <td>18234</td>\n",
       "      <td>Female</td>\n",
       "      <td>80.0</td>\n",
       "      <td>1</td>\n",
       "      <td>0</td>\n",
       "      <td>Yes</td>\n",
       "      <td>Private</td>\n",
       "      <td>Urban</td>\n",
       "      <td>83.75</td>\n",
       "      <td>NaN</td>\n",
       "      <td>never smoked</td>\n",
       "      <td>0</td>\n",
       "    </tr>\n",
       "    <tr>\n",
       "      <th>5106</th>\n",
       "      <td>44873</td>\n",
       "      <td>Female</td>\n",
       "      <td>81.0</td>\n",
       "      <td>0</td>\n",
       "      <td>0</td>\n",
       "      <td>Yes</td>\n",
       "      <td>Self-employed</td>\n",
       "      <td>Urban</td>\n",
       "      <td>125.20</td>\n",
       "      <td>40.0</td>\n",
       "      <td>never smoked</td>\n",
       "      <td>0</td>\n",
       "    </tr>\n",
       "    <tr>\n",
       "      <th>5107</th>\n",
       "      <td>19723</td>\n",
       "      <td>Female</td>\n",
       "      <td>35.0</td>\n",
       "      <td>0</td>\n",
       "      <td>0</td>\n",
       "      <td>Yes</td>\n",
       "      <td>Self-employed</td>\n",
       "      <td>Rural</td>\n",
       "      <td>82.99</td>\n",
       "      <td>30.6</td>\n",
       "      <td>never smoked</td>\n",
       "      <td>0</td>\n",
       "    </tr>\n",
       "    <tr>\n",
       "      <th>5108</th>\n",
       "      <td>37544</td>\n",
       "      <td>Male</td>\n",
       "      <td>51.0</td>\n",
       "      <td>0</td>\n",
       "      <td>0</td>\n",
       "      <td>Yes</td>\n",
       "      <td>Private</td>\n",
       "      <td>Rural</td>\n",
       "      <td>166.29</td>\n",
       "      <td>25.6</td>\n",
       "      <td>formerly smoked</td>\n",
       "      <td>0</td>\n",
       "    </tr>\n",
       "    <tr>\n",
       "      <th>5109</th>\n",
       "      <td>44679</td>\n",
       "      <td>Female</td>\n",
       "      <td>44.0</td>\n",
       "      <td>0</td>\n",
       "      <td>0</td>\n",
       "      <td>Yes</td>\n",
       "      <td>Govt_job</td>\n",
       "      <td>Urban</td>\n",
       "      <td>85.28</td>\n",
       "      <td>26.2</td>\n",
       "      <td>Unknown</td>\n",
       "      <td>0</td>\n",
       "    </tr>\n",
       "  </tbody>\n",
       "</table>\n",
       "<p>5110 rows × 12 columns</p>\n",
       "</div>"
      ],
      "text/plain": [
       "         id  gender   age  hypertension  heart_disease ever_married  \\\n",
       "0      9046    Male  67.0             0              1          Yes   \n",
       "1     51676  Female  61.0             0              0          Yes   \n",
       "2     31112    Male  80.0             0              1          Yes   \n",
       "3     60182  Female  49.0             0              0          Yes   \n",
       "4      1665  Female  79.0             1              0          Yes   \n",
       "...     ...     ...   ...           ...            ...          ...   \n",
       "5105  18234  Female  80.0             1              0          Yes   \n",
       "5106  44873  Female  81.0             0              0          Yes   \n",
       "5107  19723  Female  35.0             0              0          Yes   \n",
       "5108  37544    Male  51.0             0              0          Yes   \n",
       "5109  44679  Female  44.0             0              0          Yes   \n",
       "\n",
       "          work_type Residence_type  avg_glucose_level   bmi   smoking_status  \\\n",
       "0           Private          Urban             228.69  36.6  formerly smoked   \n",
       "1     Self-employed          Rural             202.21   NaN     never smoked   \n",
       "2           Private          Rural             105.92  32.5     never smoked   \n",
       "3           Private          Urban             171.23  34.4           smokes   \n",
       "4     Self-employed          Rural             174.12  24.0     never smoked   \n",
       "...             ...            ...                ...   ...              ...   \n",
       "5105        Private          Urban              83.75   NaN     never smoked   \n",
       "5106  Self-employed          Urban             125.20  40.0     never smoked   \n",
       "5107  Self-employed          Rural              82.99  30.6     never smoked   \n",
       "5108        Private          Rural             166.29  25.6  formerly smoked   \n",
       "5109       Govt_job          Urban              85.28  26.2          Unknown   \n",
       "\n",
       "      stroke  \n",
       "0          1  \n",
       "1          1  \n",
       "2          1  \n",
       "3          1  \n",
       "4          1  \n",
       "...      ...  \n",
       "5105       0  \n",
       "5106       0  \n",
       "5107       0  \n",
       "5108       0  \n",
       "5109       0  \n",
       "\n",
       "[5110 rows x 12 columns]"
      ]
     },
     "execution_count": 111,
     "metadata": {},
     "output_type": "execute_result"
    }
   ],
   "source": [
    "df"
   ]
  },
  {
   "cell_type": "markdown",
   "id": "801f8ae8-e264-4e70-9d2a-ddeff5565893",
   "metadata": {},
   "source": [
    "📌 Retirarei a coluna `id` por não ter importância alguma no contexto desta análise"
   ]
  },
  {
   "cell_type": "code",
   "execution_count": 112,
   "id": "404effdd-433e-4636-84e0-5e75947a4e9c",
   "metadata": {},
   "outputs": [],
   "source": [
    "# retirando a coluna 'id'\n",
    "df = df.drop(columns = ['id'])"
   ]
  },
  {
   "cell_type": "markdown",
   "id": "1fdb44c8-755a-44a7-9cdc-dc472f129924",
   "metadata": {},
   "source": [
    "## Verificando algumas estatísticas das variáveis quantitativas"
   ]
  },
  {
   "cell_type": "code",
   "execution_count": 5,
   "id": "9aee08dd-c903-4ce7-9475-38bd2ebc5ef4",
   "metadata": {},
   "outputs": [
    {
     "data": {
      "text/html": [
       "<div>\n",
       "<style scoped>\n",
       "    .dataframe tbody tr th:only-of-type {\n",
       "        vertical-align: middle;\n",
       "    }\n",
       "\n",
       "    .dataframe tbody tr th {\n",
       "        vertical-align: top;\n",
       "    }\n",
       "\n",
       "    .dataframe thead th {\n",
       "        text-align: right;\n",
       "    }\n",
       "</style>\n",
       "<table border=\"1\" class=\"dataframe\">\n",
       "  <thead>\n",
       "    <tr style=\"text-align: right;\">\n",
       "      <th></th>\n",
       "      <th>age</th>\n",
       "      <th>hypertension</th>\n",
       "      <th>heart_disease</th>\n",
       "      <th>avg_glucose_level</th>\n",
       "      <th>bmi</th>\n",
       "      <th>stroke</th>\n",
       "    </tr>\n",
       "  </thead>\n",
       "  <tbody>\n",
       "    <tr>\n",
       "      <th>count</th>\n",
       "      <td>5110.000000</td>\n",
       "      <td>5110.000000</td>\n",
       "      <td>5110.000000</td>\n",
       "      <td>5110.000000</td>\n",
       "      <td>4909.000000</td>\n",
       "      <td>5110.000000</td>\n",
       "    </tr>\n",
       "    <tr>\n",
       "      <th>mean</th>\n",
       "      <td>43.226614</td>\n",
       "      <td>0.097456</td>\n",
       "      <td>0.054012</td>\n",
       "      <td>106.147677</td>\n",
       "      <td>28.893237</td>\n",
       "      <td>0.048728</td>\n",
       "    </tr>\n",
       "    <tr>\n",
       "      <th>std</th>\n",
       "      <td>22.612647</td>\n",
       "      <td>0.296607</td>\n",
       "      <td>0.226063</td>\n",
       "      <td>45.283560</td>\n",
       "      <td>7.854067</td>\n",
       "      <td>0.215320</td>\n",
       "    </tr>\n",
       "    <tr>\n",
       "      <th>min</th>\n",
       "      <td>0.080000</td>\n",
       "      <td>0.000000</td>\n",
       "      <td>0.000000</td>\n",
       "      <td>55.120000</td>\n",
       "      <td>10.300000</td>\n",
       "      <td>0.000000</td>\n",
       "    </tr>\n",
       "    <tr>\n",
       "      <th>25%</th>\n",
       "      <td>25.000000</td>\n",
       "      <td>0.000000</td>\n",
       "      <td>0.000000</td>\n",
       "      <td>77.245000</td>\n",
       "      <td>23.500000</td>\n",
       "      <td>0.000000</td>\n",
       "    </tr>\n",
       "    <tr>\n",
       "      <th>50%</th>\n",
       "      <td>45.000000</td>\n",
       "      <td>0.000000</td>\n",
       "      <td>0.000000</td>\n",
       "      <td>91.885000</td>\n",
       "      <td>28.100000</td>\n",
       "      <td>0.000000</td>\n",
       "    </tr>\n",
       "    <tr>\n",
       "      <th>75%</th>\n",
       "      <td>61.000000</td>\n",
       "      <td>0.000000</td>\n",
       "      <td>0.000000</td>\n",
       "      <td>114.090000</td>\n",
       "      <td>33.100000</td>\n",
       "      <td>0.000000</td>\n",
       "    </tr>\n",
       "    <tr>\n",
       "      <th>max</th>\n",
       "      <td>82.000000</td>\n",
       "      <td>1.000000</td>\n",
       "      <td>1.000000</td>\n",
       "      <td>271.740000</td>\n",
       "      <td>97.600000</td>\n",
       "      <td>1.000000</td>\n",
       "    </tr>\n",
       "  </tbody>\n",
       "</table>\n",
       "</div>"
      ],
      "text/plain": [
       "               age  hypertension  heart_disease  avg_glucose_level  \\\n",
       "count  5110.000000   5110.000000    5110.000000        5110.000000   \n",
       "mean     43.226614      0.097456       0.054012         106.147677   \n",
       "std      22.612647      0.296607       0.226063          45.283560   \n",
       "min       0.080000      0.000000       0.000000          55.120000   \n",
       "25%      25.000000      0.000000       0.000000          77.245000   \n",
       "50%      45.000000      0.000000       0.000000          91.885000   \n",
       "75%      61.000000      0.000000       0.000000         114.090000   \n",
       "max      82.000000      1.000000       1.000000         271.740000   \n",
       "\n",
       "               bmi       stroke  \n",
       "count  4909.000000  5110.000000  \n",
       "mean     28.893237     0.048728  \n",
       "std       7.854067     0.215320  \n",
       "min      10.300000     0.000000  \n",
       "25%      23.500000     0.000000  \n",
       "50%      28.100000     0.000000  \n",
       "75%      33.100000     0.000000  \n",
       "max      97.600000     1.000000  "
      ]
     },
     "execution_count": 5,
     "metadata": {},
     "output_type": "execute_result"
    }
   ],
   "source": [
    "df.describe()"
   ]
  },
  {
   "cell_type": "code",
   "execution_count": 6,
   "id": "2fe7a388-72ae-4aca-ac30-55fc41cbd348",
   "metadata": {},
   "outputs": [
    {
     "name": "stdout",
     "output_type": "stream",
     "text": [
      "<class 'pandas.core.frame.DataFrame'>\n",
      "RangeIndex: 5110 entries, 0 to 5109\n",
      "Data columns (total 11 columns):\n",
      " #   Column             Non-Null Count  Dtype  \n",
      "---  ------             --------------  -----  \n",
      " 0   gender             5110 non-null   object \n",
      " 1   age                5110 non-null   float64\n",
      " 2   hypertension       5110 non-null   int64  \n",
      " 3   heart_disease      5110 non-null   int64  \n",
      " 4   ever_married       5110 non-null   object \n",
      " 5   work_type          5110 non-null   object \n",
      " 6   Residence_type     5110 non-null   object \n",
      " 7   avg_glucose_level  5110 non-null   float64\n",
      " 8   bmi                4909 non-null   float64\n",
      " 9   smoking_status     5110 non-null   object \n",
      " 10  stroke             5110 non-null   int64  \n",
      "dtypes: float64(3), int64(3), object(5)\n",
      "memory usage: 439.3+ KB\n"
     ]
    }
   ],
   "source": [
    "df.info()"
   ]
  },
  {
   "cell_type": "code",
   "execution_count": 7,
   "id": "bd6fc112-5c24-49cd-8f05-f52d18c7ddc8",
   "metadata": {},
   "outputs": [
    {
     "data": {
      "text/plain": [
       "gender                 0\n",
       "age                    0\n",
       "hypertension           0\n",
       "heart_disease          0\n",
       "ever_married           0\n",
       "work_type              0\n",
       "Residence_type         0\n",
       "avg_glucose_level      0\n",
       "bmi                  201\n",
       "smoking_status         0\n",
       "stroke                 0\n",
       "dtype: int64"
      ]
     },
     "execution_count": 7,
     "metadata": {},
     "output_type": "execute_result"
    }
   ],
   "source": [
    "# verificando se há alguma variável com dados faltantes\n",
    "df.isnull().sum()"
   ]
  },
  {
   "cell_type": "markdown",
   "id": "b330f7c1-7573-4725-b722-f8b93957ad99",
   "metadata": {},
   "source": [
    "📌 Notamos que a variável bmi (IMC) possui 201 dados faltantes (missing). Trataremos disso preenchendo onde existe `missing` com a mediana dessa variável."
   ]
  },
  {
   "cell_type": "code",
   "execution_count": 8,
   "id": "db17d3c6-c08c-43e6-8ecb-0901fb680bc6",
   "metadata": {},
   "outputs": [
    {
     "data": {
      "text/plain": [
       "count    4909.000000\n",
       "mean       28.893237\n",
       "std         7.854067\n",
       "min        10.300000\n",
       "25%        23.500000\n",
       "50%        28.100000\n",
       "75%        33.100000\n",
       "max        97.600000\n",
       "Name: bmi, dtype: float64"
      ]
     },
     "execution_count": 8,
     "metadata": {},
     "output_type": "execute_result"
    }
   ],
   "source": [
    "df['bmi'].describe()"
   ]
  },
  {
   "cell_type": "code",
   "execution_count": 113,
   "id": "bd7418f4-2cde-4a86-a71a-a4ac7d90daac",
   "metadata": {},
   "outputs": [],
   "source": [
    "## substituir o missing pela mediana da variável (28.1)\n",
    "df['bmi'].fillna(df['bmi'].median(), inplace  = True)"
   ]
  },
  {
   "cell_type": "code",
   "execution_count": 10,
   "id": "b9283aef-4807-40a3-b06a-158280e85cea",
   "metadata": {},
   "outputs": [
    {
     "data": {
      "text/plain": [
       "gender               0\n",
       "age                  0\n",
       "hypertension         0\n",
       "heart_disease        0\n",
       "ever_married         0\n",
       "work_type            0\n",
       "Residence_type       0\n",
       "avg_glucose_level    0\n",
       "bmi                  0\n",
       "smoking_status       0\n",
       "stroke               0\n",
       "dtype: int64"
      ]
     },
     "execution_count": 10,
     "metadata": {},
     "output_type": "execute_result"
    }
   ],
   "source": [
    "# verificando que não há mais valores faltantes\n",
    "df.isnull().sum()"
   ]
  },
  {
   "cell_type": "code",
   "execution_count": 11,
   "id": "92edeb2d-13c5-4d79-ae32-8ae1d47c726d",
   "metadata": {},
   "outputs": [
    {
     "data": {
      "text/html": [
       "<div>\n",
       "<style scoped>\n",
       "    .dataframe tbody tr th:only-of-type {\n",
       "        vertical-align: middle;\n",
       "    }\n",
       "\n",
       "    .dataframe tbody tr th {\n",
       "        vertical-align: top;\n",
       "    }\n",
       "\n",
       "    .dataframe thead th {\n",
       "        text-align: right;\n",
       "    }\n",
       "</style>\n",
       "<table border=\"1\" class=\"dataframe\">\n",
       "  <thead>\n",
       "    <tr style=\"text-align: right;\">\n",
       "      <th></th>\n",
       "      <th>gender</th>\n",
       "      <th>age</th>\n",
       "      <th>hypertension</th>\n",
       "      <th>heart_disease</th>\n",
       "      <th>ever_married</th>\n",
       "      <th>work_type</th>\n",
       "      <th>Residence_type</th>\n",
       "      <th>avg_glucose_level</th>\n",
       "      <th>bmi</th>\n",
       "      <th>smoking_status</th>\n",
       "      <th>stroke</th>\n",
       "    </tr>\n",
       "  </thead>\n",
       "  <tbody>\n",
       "    <tr>\n",
       "      <th>0</th>\n",
       "      <td>Male</td>\n",
       "      <td>67.0</td>\n",
       "      <td>0</td>\n",
       "      <td>1</td>\n",
       "      <td>Yes</td>\n",
       "      <td>Private</td>\n",
       "      <td>Urban</td>\n",
       "      <td>228.69</td>\n",
       "      <td>36.6</td>\n",
       "      <td>formerly smoked</td>\n",
       "      <td>1</td>\n",
       "    </tr>\n",
       "    <tr>\n",
       "      <th>1</th>\n",
       "      <td>Female</td>\n",
       "      <td>61.0</td>\n",
       "      <td>0</td>\n",
       "      <td>0</td>\n",
       "      <td>Yes</td>\n",
       "      <td>Self-employed</td>\n",
       "      <td>Rural</td>\n",
       "      <td>202.21</td>\n",
       "      <td>28.1</td>\n",
       "      <td>never smoked</td>\n",
       "      <td>1</td>\n",
       "    </tr>\n",
       "    <tr>\n",
       "      <th>2</th>\n",
       "      <td>Male</td>\n",
       "      <td>80.0</td>\n",
       "      <td>0</td>\n",
       "      <td>1</td>\n",
       "      <td>Yes</td>\n",
       "      <td>Private</td>\n",
       "      <td>Rural</td>\n",
       "      <td>105.92</td>\n",
       "      <td>32.5</td>\n",
       "      <td>never smoked</td>\n",
       "      <td>1</td>\n",
       "    </tr>\n",
       "    <tr>\n",
       "      <th>3</th>\n",
       "      <td>Female</td>\n",
       "      <td>49.0</td>\n",
       "      <td>0</td>\n",
       "      <td>0</td>\n",
       "      <td>Yes</td>\n",
       "      <td>Private</td>\n",
       "      <td>Urban</td>\n",
       "      <td>171.23</td>\n",
       "      <td>34.4</td>\n",
       "      <td>smokes</td>\n",
       "      <td>1</td>\n",
       "    </tr>\n",
       "    <tr>\n",
       "      <th>4</th>\n",
       "      <td>Female</td>\n",
       "      <td>79.0</td>\n",
       "      <td>1</td>\n",
       "      <td>0</td>\n",
       "      <td>Yes</td>\n",
       "      <td>Self-employed</td>\n",
       "      <td>Rural</td>\n",
       "      <td>174.12</td>\n",
       "      <td>24.0</td>\n",
       "      <td>never smoked</td>\n",
       "      <td>1</td>\n",
       "    </tr>\n",
       "    <tr>\n",
       "      <th>5</th>\n",
       "      <td>Male</td>\n",
       "      <td>81.0</td>\n",
       "      <td>0</td>\n",
       "      <td>0</td>\n",
       "      <td>Yes</td>\n",
       "      <td>Private</td>\n",
       "      <td>Urban</td>\n",
       "      <td>186.21</td>\n",
       "      <td>29.0</td>\n",
       "      <td>formerly smoked</td>\n",
       "      <td>1</td>\n",
       "    </tr>\n",
       "    <tr>\n",
       "      <th>6</th>\n",
       "      <td>Male</td>\n",
       "      <td>74.0</td>\n",
       "      <td>1</td>\n",
       "      <td>1</td>\n",
       "      <td>Yes</td>\n",
       "      <td>Private</td>\n",
       "      <td>Rural</td>\n",
       "      <td>70.09</td>\n",
       "      <td>27.4</td>\n",
       "      <td>never smoked</td>\n",
       "      <td>1</td>\n",
       "    </tr>\n",
       "    <tr>\n",
       "      <th>7</th>\n",
       "      <td>Female</td>\n",
       "      <td>69.0</td>\n",
       "      <td>0</td>\n",
       "      <td>0</td>\n",
       "      <td>No</td>\n",
       "      <td>Private</td>\n",
       "      <td>Urban</td>\n",
       "      <td>94.39</td>\n",
       "      <td>22.8</td>\n",
       "      <td>never smoked</td>\n",
       "      <td>1</td>\n",
       "    </tr>\n",
       "    <tr>\n",
       "      <th>8</th>\n",
       "      <td>Female</td>\n",
       "      <td>59.0</td>\n",
       "      <td>0</td>\n",
       "      <td>0</td>\n",
       "      <td>Yes</td>\n",
       "      <td>Private</td>\n",
       "      <td>Rural</td>\n",
       "      <td>76.15</td>\n",
       "      <td>28.1</td>\n",
       "      <td>Unknown</td>\n",
       "      <td>1</td>\n",
       "    </tr>\n",
       "    <tr>\n",
       "      <th>9</th>\n",
       "      <td>Female</td>\n",
       "      <td>78.0</td>\n",
       "      <td>0</td>\n",
       "      <td>0</td>\n",
       "      <td>Yes</td>\n",
       "      <td>Private</td>\n",
       "      <td>Urban</td>\n",
       "      <td>58.57</td>\n",
       "      <td>24.2</td>\n",
       "      <td>Unknown</td>\n",
       "      <td>1</td>\n",
       "    </tr>\n",
       "  </tbody>\n",
       "</table>\n",
       "</div>"
      ],
      "text/plain": [
       "   gender   age  hypertension  heart_disease ever_married      work_type  \\\n",
       "0    Male  67.0             0              1          Yes        Private   \n",
       "1  Female  61.0             0              0          Yes  Self-employed   \n",
       "2    Male  80.0             0              1          Yes        Private   \n",
       "3  Female  49.0             0              0          Yes        Private   \n",
       "4  Female  79.0             1              0          Yes  Self-employed   \n",
       "5    Male  81.0             0              0          Yes        Private   \n",
       "6    Male  74.0             1              1          Yes        Private   \n",
       "7  Female  69.0             0              0           No        Private   \n",
       "8  Female  59.0             0              0          Yes        Private   \n",
       "9  Female  78.0             0              0          Yes        Private   \n",
       "\n",
       "  Residence_type  avg_glucose_level   bmi   smoking_status  stroke  \n",
       "0          Urban             228.69  36.6  formerly smoked       1  \n",
       "1          Rural             202.21  28.1     never smoked       1  \n",
       "2          Rural             105.92  32.5     never smoked       1  \n",
       "3          Urban             171.23  34.4           smokes       1  \n",
       "4          Rural             174.12  24.0     never smoked       1  \n",
       "5          Urban             186.21  29.0  formerly smoked       1  \n",
       "6          Rural              70.09  27.4     never smoked       1  \n",
       "7          Urban              94.39  22.8     never smoked       1  \n",
       "8          Rural              76.15  28.1          Unknown       1  \n",
       "9          Urban              58.57  24.2          Unknown       1  "
      ]
     },
     "execution_count": 11,
     "metadata": {},
     "output_type": "execute_result"
    }
   ],
   "source": [
    "# as 10 primeiras linhas do conjunto de dados\n",
    "df.head(10)"
   ]
  },
  {
   "cell_type": "code",
   "execution_count": 12,
   "id": "aabc6602-bbe9-487a-a479-e88bdaeb5f1b",
   "metadata": {},
   "outputs": [
    {
     "data": {
      "text/html": [
       "<div>\n",
       "<style scoped>\n",
       "    .dataframe tbody tr th:only-of-type {\n",
       "        vertical-align: middle;\n",
       "    }\n",
       "\n",
       "    .dataframe tbody tr th {\n",
       "        vertical-align: top;\n",
       "    }\n",
       "\n",
       "    .dataframe thead th {\n",
       "        text-align: right;\n",
       "    }\n",
       "</style>\n",
       "<table border=\"1\" class=\"dataframe\">\n",
       "  <thead>\n",
       "    <tr style=\"text-align: right;\">\n",
       "      <th></th>\n",
       "      <th>gender</th>\n",
       "      <th>age</th>\n",
       "      <th>hypertension</th>\n",
       "      <th>heart_disease</th>\n",
       "      <th>ever_married</th>\n",
       "      <th>work_type</th>\n",
       "      <th>Residence_type</th>\n",
       "      <th>avg_glucose_level</th>\n",
       "      <th>bmi</th>\n",
       "      <th>smoking_status</th>\n",
       "      <th>stroke</th>\n",
       "    </tr>\n",
       "  </thead>\n",
       "  <tbody>\n",
       "    <tr>\n",
       "      <th>5100</th>\n",
       "      <td>Male</td>\n",
       "      <td>82.0</td>\n",
       "      <td>1</td>\n",
       "      <td>0</td>\n",
       "      <td>Yes</td>\n",
       "      <td>Self-employed</td>\n",
       "      <td>Rural</td>\n",
       "      <td>71.97</td>\n",
       "      <td>28.3</td>\n",
       "      <td>never smoked</td>\n",
       "      <td>0</td>\n",
       "    </tr>\n",
       "    <tr>\n",
       "      <th>5101</th>\n",
       "      <td>Female</td>\n",
       "      <td>45.0</td>\n",
       "      <td>0</td>\n",
       "      <td>0</td>\n",
       "      <td>Yes</td>\n",
       "      <td>Private</td>\n",
       "      <td>Urban</td>\n",
       "      <td>97.95</td>\n",
       "      <td>24.5</td>\n",
       "      <td>Unknown</td>\n",
       "      <td>0</td>\n",
       "    </tr>\n",
       "    <tr>\n",
       "      <th>5102</th>\n",
       "      <td>Female</td>\n",
       "      <td>57.0</td>\n",
       "      <td>0</td>\n",
       "      <td>0</td>\n",
       "      <td>Yes</td>\n",
       "      <td>Private</td>\n",
       "      <td>Rural</td>\n",
       "      <td>77.93</td>\n",
       "      <td>21.7</td>\n",
       "      <td>never smoked</td>\n",
       "      <td>0</td>\n",
       "    </tr>\n",
       "    <tr>\n",
       "      <th>5103</th>\n",
       "      <td>Female</td>\n",
       "      <td>18.0</td>\n",
       "      <td>0</td>\n",
       "      <td>0</td>\n",
       "      <td>No</td>\n",
       "      <td>Private</td>\n",
       "      <td>Urban</td>\n",
       "      <td>82.85</td>\n",
       "      <td>46.9</td>\n",
       "      <td>Unknown</td>\n",
       "      <td>0</td>\n",
       "    </tr>\n",
       "    <tr>\n",
       "      <th>5104</th>\n",
       "      <td>Female</td>\n",
       "      <td>13.0</td>\n",
       "      <td>0</td>\n",
       "      <td>0</td>\n",
       "      <td>No</td>\n",
       "      <td>children</td>\n",
       "      <td>Rural</td>\n",
       "      <td>103.08</td>\n",
       "      <td>18.6</td>\n",
       "      <td>Unknown</td>\n",
       "      <td>0</td>\n",
       "    </tr>\n",
       "    <tr>\n",
       "      <th>5105</th>\n",
       "      <td>Female</td>\n",
       "      <td>80.0</td>\n",
       "      <td>1</td>\n",
       "      <td>0</td>\n",
       "      <td>Yes</td>\n",
       "      <td>Private</td>\n",
       "      <td>Urban</td>\n",
       "      <td>83.75</td>\n",
       "      <td>28.1</td>\n",
       "      <td>never smoked</td>\n",
       "      <td>0</td>\n",
       "    </tr>\n",
       "    <tr>\n",
       "      <th>5106</th>\n",
       "      <td>Female</td>\n",
       "      <td>81.0</td>\n",
       "      <td>0</td>\n",
       "      <td>0</td>\n",
       "      <td>Yes</td>\n",
       "      <td>Self-employed</td>\n",
       "      <td>Urban</td>\n",
       "      <td>125.20</td>\n",
       "      <td>40.0</td>\n",
       "      <td>never smoked</td>\n",
       "      <td>0</td>\n",
       "    </tr>\n",
       "    <tr>\n",
       "      <th>5107</th>\n",
       "      <td>Female</td>\n",
       "      <td>35.0</td>\n",
       "      <td>0</td>\n",
       "      <td>0</td>\n",
       "      <td>Yes</td>\n",
       "      <td>Self-employed</td>\n",
       "      <td>Rural</td>\n",
       "      <td>82.99</td>\n",
       "      <td>30.6</td>\n",
       "      <td>never smoked</td>\n",
       "      <td>0</td>\n",
       "    </tr>\n",
       "    <tr>\n",
       "      <th>5108</th>\n",
       "      <td>Male</td>\n",
       "      <td>51.0</td>\n",
       "      <td>0</td>\n",
       "      <td>0</td>\n",
       "      <td>Yes</td>\n",
       "      <td>Private</td>\n",
       "      <td>Rural</td>\n",
       "      <td>166.29</td>\n",
       "      <td>25.6</td>\n",
       "      <td>formerly smoked</td>\n",
       "      <td>0</td>\n",
       "    </tr>\n",
       "    <tr>\n",
       "      <th>5109</th>\n",
       "      <td>Female</td>\n",
       "      <td>44.0</td>\n",
       "      <td>0</td>\n",
       "      <td>0</td>\n",
       "      <td>Yes</td>\n",
       "      <td>Govt_job</td>\n",
       "      <td>Urban</td>\n",
       "      <td>85.28</td>\n",
       "      <td>26.2</td>\n",
       "      <td>Unknown</td>\n",
       "      <td>0</td>\n",
       "    </tr>\n",
       "  </tbody>\n",
       "</table>\n",
       "</div>"
      ],
      "text/plain": [
       "      gender   age  hypertension  heart_disease ever_married      work_type  \\\n",
       "5100    Male  82.0             1              0          Yes  Self-employed   \n",
       "5101  Female  45.0             0              0          Yes        Private   \n",
       "5102  Female  57.0             0              0          Yes        Private   \n",
       "5103  Female  18.0             0              0           No        Private   \n",
       "5104  Female  13.0             0              0           No       children   \n",
       "5105  Female  80.0             1              0          Yes        Private   \n",
       "5106  Female  81.0             0              0          Yes  Self-employed   \n",
       "5107  Female  35.0             0              0          Yes  Self-employed   \n",
       "5108    Male  51.0             0              0          Yes        Private   \n",
       "5109  Female  44.0             0              0          Yes       Govt_job   \n",
       "\n",
       "     Residence_type  avg_glucose_level   bmi   smoking_status  stroke  \n",
       "5100          Rural              71.97  28.3     never smoked       0  \n",
       "5101          Urban              97.95  24.5          Unknown       0  \n",
       "5102          Rural              77.93  21.7     never smoked       0  \n",
       "5103          Urban              82.85  46.9          Unknown       0  \n",
       "5104          Rural             103.08  18.6          Unknown       0  \n",
       "5105          Urban              83.75  28.1     never smoked       0  \n",
       "5106          Urban             125.20  40.0     never smoked       0  \n",
       "5107          Rural              82.99  30.6     never smoked       0  \n",
       "5108          Rural             166.29  25.6  formerly smoked       0  \n",
       "5109          Urban              85.28  26.2          Unknown       0  "
      ]
     },
     "execution_count": 12,
     "metadata": {},
     "output_type": "execute_result"
    }
   ],
   "source": [
    "# as 10 ultimas linhas do conjunto de dados\n",
    "df.tail(10)"
   ]
  },
  {
   "cell_type": "markdown",
   "id": "2573c49f-4a1b-4541-a51e-f6a862effd9a",
   "metadata": {},
   "source": [
    "## Vamos dar uma olhada no balanceamento dos dados quanto a nossa variável interesse (stroke)."
   ]
  },
  {
   "cell_type": "code",
   "execution_count": 13,
   "id": "8c7ed163-81a2-4427-be1f-e36f03206ad4",
   "metadata": {},
   "outputs": [
    {
     "data": {
      "text/plain": [
       "(array([0, 1], dtype=int64), array([4861,  249], dtype=int64))"
      ]
     },
     "execution_count": 13,
     "metadata": {},
     "output_type": "execute_result"
    }
   ],
   "source": [
    "np.unique(df['stroke'], return_counts = True)"
   ]
  },
  {
   "cell_type": "markdown",
   "id": "ff90a893-4b40-4803-b3a8-393c09512040",
   "metadata": {},
   "source": [
    "📌 Isso nos retornou a informação de que temos 4861 indivíduos classificados como 0 (não teve AVC) e apenas 249 indivíduos classificados como 1 (teve AVC). Falarei sobre isso em seguida."
   ]
  },
  {
   "cell_type": "markdown",
   "id": "ba37f5d8-8f5a-44f7-aa82-a644e796092a",
   "metadata": {},
   "source": [
    "# Visualização dos dados"
   ]
  },
  {
   "cell_type": "code",
   "execution_count": 14,
   "id": "0fb63fd7-bbc1-4c9f-a1cc-048c79d1cbec",
   "metadata": {},
   "outputs": [
    {
     "data": {
      "text/plain": [
       "<AxesSubplot:xlabel='stroke', ylabel='count'>"
      ]
     },
     "execution_count": 14,
     "metadata": {},
     "output_type": "execute_result"
    },
    {
     "data": {
      "image/png": "[encoded data removed]",
      "text/plain": [
       "<Figure size 432x288 with 1 Axes>"
      ]
     },
     "metadata": {
      "needs_background": "light"
     },
     "output_type": "display_data"
    }
   ],
   "source": [
    "sns.countplot(x = df['stroke'])"
   ]
  },
  {
   "cell_type": "markdown",
   "id": "a7d24a0a-952c-4b33-8d58-53a21faa9b6a",
   "metadata": {},
   "source": [
    "📌 Aqui vemos claramente que os dados estão desbalanceados, isso prejudicaria na análise dos modelos, pois eles `\"chutariam\"` que quase todos os indivíduos são `0`, isso faria com que errassem bastante em classificar alguém como `1`. Trataremos disso mais na frente, lá no pré-processamento."
   ]
  },
  {
   "cell_type": "code",
   "execution_count": 114,
   "id": "0cc3b0c5-cde1-4ca8-a93d-c0989d5d955b",
   "metadata": {},
   "outputs": [
    {
     "data": {
      "image/png": "[encoded data removed]",
      "text/plain": [
       "<Figure size 1440x1080 with 6 Axes>"
      ]
     },
     "metadata": {},
     "output_type": "display_data"
    }
   ],
   "source": [
    "#histograma de todas as variáveis quantitativas\n",
    "df.hist(bins=20, figsize=(20,15),color='blue',alpha=0.7)\n",
    "plt.show()"
   ]
  },
  {
   "cell_type": "code",
   "execution_count": 17,
   "id": "dd6baed1-997b-4ef6-8c71-a88ffcd9d267",
   "metadata": {},
   "outputs": [
    {
     "data": {
      "text/plain": [
       "<AxesSubplot:xlabel='stroke', ylabel='age'>"
      ]
     },
     "execution_count": 17,
     "metadata": {},
     "output_type": "execute_result"
    },
    {
     "data": {
      "image/png": "[encoded data removed]",
      "text/plain": [
       "<Figure size 432x288 with 1 Axes>"
      ]
     },
     "metadata": {
      "needs_background": "light"
     },
     "output_type": "display_data"
    }
   ],
   "source": [
    "sns.boxplot(x = 'stroke', y = 'age', data = df)"
   ]
  },
  {
   "cell_type": "markdown",
   "id": "d327b6e5-edc3-452b-8600-8b0275e83f03",
   "metadata": {},
   "source": [
    "📌 Nesse BoxPlot podemos ver que a classe `1` (quem teve AVC) possui em geral uma idade maior, com mediana próxima de 80 anos, já os da classe `0` (quem não teve AVC) tem uma mediana próxima de 40 anos."
   ]
  },
  {
   "cell_type": "markdown",
   "id": "396ad91c-7db8-4c8a-87a9-d6a6b1f34510",
   "metadata": {},
   "source": [
    "## Análise de correlação"
   ]
  },
  {
   "cell_type": "code",
   "execution_count": 18,
   "id": "9588573a-7047-48b3-ba3d-f9d5613646e4",
   "metadata": {},
   "outputs": [
    {
     "data": {
      "text/plain": [
       "<AxesSubplot:>"
      ]
     },
     "execution_count": 18,
     "metadata": {},
     "output_type": "execute_result"
    },
    {
     "data": {
      "image/png": "[encoded data removed]",
      "text/plain": [
       "<Figure size 1008x504 with 2 Axes>"
      ]
     },
     "metadata": {
      "needs_background": "light"
     },
     "output_type": "display_data"
    }
   ],
   "source": [
    "correlation = df.corr().round(2)\n",
    "plt.figure(figsize = (14,7))\n",
    "sns.heatmap(correlation, annot = True, cmap = 'Blues')"
   ]
  },
  {
   "cell_type": "markdown",
   "id": "bf66d84e-fc14-412d-ad1f-89f72913bb8c",
   "metadata": {},
   "source": [
    "📌 Nesse mapa de calor podemos obsevar que não há nenhuma grande correlação entre nenhuma dessas variáveis quantitativas."
   ]
  },
  {
   "cell_type": "markdown",
   "id": "9713dd2f-81c6-450f-aadb-bee0eaed594d",
   "metadata": {},
   "source": [
    "# Pré-processamento dos dados\n",
    "\n",
    "1. Faremos o escalonamento das variáveis `age`, `avg_glucose_level` e `bmi`.\n",
    "2. Dividiremos o conjunto de dados em dois, separando as variáveis explicativas da variável resposta.\n",
    "3. Trataremos dos dados categoricos com o LabelEncoder, transformando-os em numéricos.\n",
    "4. Utilizaremos o OneHotEncoder para otimizar os resultados do LabelEncoder.\n",
    "5. Por fim, utilizaremos do SMOTE para realizar uma reamostragem para balancearmos os dados.\n",
    "\n"
   ]
  },
  {
   "cell_type": "markdown",
   "id": "2276be35-fad0-4fa4-a937-3ccd0513d531",
   "metadata": {},
   "source": [
    "## Escalonamento"
   ]
  },
  {
   "cell_type": "code",
   "execution_count": 19,
   "id": "8abe4e55-0cc6-4893-87d7-c990f15ad07b",
   "metadata": {},
   "outputs": [],
   "source": [
    "from sklearn.preprocessing import StandardScaler \n",
    "num_cols = ['age', 'avg_glucose_level', 'bmi']\n",
    "Scaler = StandardScaler()\n",
    "df[num_cols] = Scaler.fit_transform(df[num_cols])"
   ]
  },
  {
   "cell_type": "markdown",
   "id": "da3d156d-8b6c-4c8f-84f6-460c83ba293d",
   "metadata": {},
   "source": [
    "## Divisão entre variáveis explicativas e variável resposta"
   ]
  },
  {
   "cell_type": "code",
   "execution_count": 20,
   "id": "0a890567-771d-405a-a78a-8d142a432283",
   "metadata": {},
   "outputs": [
    {
     "data": {
      "text/plain": [
       "Index(['gender', 'age', 'hypertension', 'heart_disease', 'ever_married',\n",
       "       'work_type', 'Residence_type', 'avg_glucose_level', 'bmi',\n",
       "       'smoking_status', 'stroke'],\n",
       "      dtype='object')"
      ]
     },
     "execution_count": 20,
     "metadata": {},
     "output_type": "execute_result"
    }
   ],
   "source": [
    "df.columns"
   ]
  },
  {
   "cell_type": "code",
   "execution_count": 21,
   "id": "5af1e6e2-1119-4e7d-aeab-b6b18b09b747",
   "metadata": {},
   "outputs": [],
   "source": [
    "x = df.iloc[:, 0:10].values"
   ]
  },
  {
   "cell_type": "code",
   "execution_count": 22,
   "id": "85e75574-5858-42f1-bc2a-b7404b59929c",
   "metadata": {},
   "outputs": [],
   "source": [
    "y = df.iloc[:, 10].values"
   ]
  },
  {
   "cell_type": "code",
   "execution_count": 23,
   "id": "c9110a92-235f-4b39-9541-814814bd840d",
   "metadata": {},
   "outputs": [
    {
     "data": {
      "text/plain": [
       "(5110, 10)"
      ]
     },
     "execution_count": 23,
     "metadata": {},
     "output_type": "execute_result"
    }
   ],
   "source": [
    "x.shape"
   ]
  },
  {
   "cell_type": "code",
   "execution_count": 24,
   "id": "e3d9c664-7a3c-4377-970f-1ae1f6f44f2a",
   "metadata": {},
   "outputs": [
    {
     "data": {
      "text/plain": [
       "(5110,)"
      ]
     },
     "execution_count": 24,
     "metadata": {},
     "output_type": "execute_result"
    }
   ],
   "source": [
    "y.shape"
   ]
  },
  {
   "cell_type": "markdown",
   "id": "68f46a1a-6f73-4291-ad5c-fda8269c1582",
   "metadata": {},
   "source": [
    "## LabelEncoder"
   ]
  },
  {
   "cell_type": "code",
   "execution_count": 25,
   "id": "ab3b8446-5dca-40e8-9f73-16f8b24cbac3",
   "metadata": {},
   "outputs": [],
   "source": [
    "from sklearn.preprocessing import LabelEncoder\n",
    "\n",
    "label_encoder_gender = LabelEncoder()\n",
    "label_encoder_ever_married = LabelEncoder()\n",
    "label_encoder_work_type = LabelEncoder()\n",
    "label_encoder_Residence_type = LabelEncoder()\n",
    "label_encoder_smoking_status = LabelEncoder()"
   ]
  },
  {
   "cell_type": "code",
   "execution_count": 26,
   "id": "b8a5a9ef-46a5-48db-b92e-8c8603f658c9",
   "metadata": {},
   "outputs": [],
   "source": [
    "x[:, 0] = label_encoder_gender.fit_transform(x[:, 0])\n",
    "x[:, 4] = label_encoder_ever_married.fit_transform(x[:, 4])\n",
    "x[:, 5] = label_encoder_work_type.fit_transform(x[:, 5])\n",
    "x[:, 6] = label_encoder_Residence_type.fit_transform(x[:, 6])\n",
    "x[:, 9] = label_encoder_smoking_status.fit_transform(x[:, 9])"
   ]
  },
  {
   "cell_type": "code",
   "execution_count": 27,
   "id": "8374f74c-353e-4342-bdf9-8791b537fada",
   "metadata": {},
   "outputs": [
    {
     "data": {
      "text/plain": [
       "(5110, 10)"
      ]
     },
     "execution_count": 27,
     "metadata": {},
     "output_type": "execute_result"
    }
   ],
   "source": [
    "x.shape"
   ]
  },
  {
   "cell_type": "code",
   "execution_count": 28,
   "id": "5bee3ac0-8b44-46c1-8383-9f94a4ea5243",
   "metadata": {},
   "outputs": [
    {
     "data": {
      "text/plain": [
       "(5110,)"
      ]
     },
     "execution_count": 28,
     "metadata": {},
     "output_type": "execute_result"
    }
   ],
   "source": [
    "y.shape"
   ]
  },
  {
   "cell_type": "markdown",
   "id": "36613523-6d6d-488d-8f31-24b58abf87ad",
   "metadata": {},
   "source": [
    "## OneHotEncoder"
   ]
  },
  {
   "cell_type": "code",
   "execution_count": 29,
   "id": "92e5d0aa-6a21-416a-b06f-1445240ae14c",
   "metadata": {},
   "outputs": [],
   "source": [
    "from sklearn.preprocessing import OneHotEncoder\n",
    "from sklearn.compose import ColumnTransformer"
   ]
  },
  {
   "cell_type": "code",
   "execution_count": 30,
   "id": "ee1b4d92-4e31-43e7-bd82-b688f2713292",
   "metadata": {},
   "outputs": [],
   "source": [
    "onehotencoder_x = ColumnTransformer(transformers=[('OneHot', OneHotEncoder(), [0,4,5,6,9])], remainder='passthrough')"
   ]
  },
  {
   "cell_type": "code",
   "execution_count": 31,
   "id": "c18ce3c4-1465-4c12-8606-3fa220ff4369",
   "metadata": {},
   "outputs": [],
   "source": [
    "x = onehotencoder_x.fit_transform(x)"
   ]
  },
  {
   "cell_type": "code",
   "execution_count": 32,
   "id": "561a73a3-6338-49f3-8e45-1a4c5a607981",
   "metadata": {},
   "outputs": [
    {
     "data": {
      "text/plain": [
       "(5110, 21)"
      ]
     },
     "execution_count": 32,
     "metadata": {},
     "output_type": "execute_result"
    }
   ],
   "source": [
    "x.shape"
   ]
  },
  {
   "cell_type": "markdown",
   "id": "320dffcd-9509-4193-b799-ae136d3c892f",
   "metadata": {},
   "source": [
    "## Balanceamento dos dados fazendo reamostragem com SMOTE"
   ]
  },
  {
   "cell_type": "code",
   "execution_count": 33,
   "id": "463e888e-6d2a-47ae-9f95-e5867fa7c74f",
   "metadata": {},
   "outputs": [],
   "source": [
    "!pip -q install imblearn"
   ]
  },
  {
   "cell_type": "code",
   "execution_count": 34,
   "id": "7b5dd33b-e688-4076-a1c2-341de9873488",
   "metadata": {},
   "outputs": [],
   "source": [
    "from imblearn.over_sampling import SMOTE\n",
    "\n",
    "smote = SMOTE(sampling_strategy='minority')\n",
    "x_resample, y_resample = smote.fit_resample(x, y)"
   ]
  },
  {
   "cell_type": "code",
   "execution_count": 35,
   "id": "5d13a8ea-4c60-41a1-b866-7e394028173d",
   "metadata": {},
   "outputs": [
    {
     "data": {
      "text/plain": [
       "(array([0, 1], dtype=int64), array([4861, 4861], dtype=int64))"
      ]
     },
     "execution_count": 35,
     "metadata": {},
     "output_type": "execute_result"
    }
   ],
   "source": [
    "np.unique(y_resample, return_counts = True)"
   ]
  },
  {
   "cell_type": "markdown",
   "id": "62bf8ded-0d34-4f60-bf42-2f8e3d733e97",
   "metadata": {},
   "source": [
    "📌 Após usarmos o SMOTE a variável resposta agora tem as mesma quantidade de observações para `0` (não teve AVC) e para `1` (teve AVC)."
   ]
  },
  {
   "cell_type": "code",
   "execution_count": 36,
   "id": "0fa1b019-c540-411b-8477-1ef67f22201b",
   "metadata": {},
   "outputs": [
    {
     "data": {
      "text/plain": [
       "(9722, 21)"
      ]
     },
     "execution_count": 36,
     "metadata": {},
     "output_type": "execute_result"
    }
   ],
   "source": [
    "x_resample.shape"
   ]
  },
  {
   "cell_type": "code",
   "execution_count": 37,
   "id": "868c28f2-638d-46b4-9f5b-2dce76964059",
   "metadata": {},
   "outputs": [
    {
     "data": {
      "text/plain": [
       "(9722,)"
      ]
     },
     "execution_count": 37,
     "metadata": {},
     "output_type": "execute_result"
    }
   ],
   "source": [
    "y_resample.shape"
   ]
  },
  {
   "cell_type": "markdown",
   "id": "b4ddeeae-f612-4419-ac09-729eca4d9c10",
   "metadata": {},
   "source": [
    "📌 E aqui podemos ver que o número de observações em geral aumentou por conta do SMOTE."
   ]
  },
  {
   "cell_type": "markdown",
   "id": "92a99486-e4c1-4d55-b30e-d90d43cbca11",
   "metadata": {},
   "source": [
    "# Escolhendo os melhores parâmetros com GridSearchCV"
   ]
  },
  {
   "cell_type": "markdown",
   "id": "8377a562-da84-45d9-93f7-322aad76ea6e",
   "metadata": {},
   "source": [
    "## Bibliotecas necessárias"
   ]
  },
  {
   "cell_type": "code",
   "execution_count": 38,
   "id": "37f40b7b-7570-4287-b52f-dc9b6524e03b",
   "metadata": {},
   "outputs": [],
   "source": [
    "from sklearn.model_selection import GridSearchCV\n",
    "from sklearn.tree import DecisionTreeClassifier\n",
    "from sklearn.ensemble import RandomForestClassifier\n",
    "from sklearn.neighbors import KNeighborsClassifier\n",
    "from sklearn.linear_model import LogisticRegression\n",
    "from sklearn.svm import SVC\n",
    "from sklearn.neural_network import MLPClassifier"
   ]
  },
  {
   "cell_type": "markdown",
   "id": "0e9892ba-80d2-428b-9958-5d5a19eba265",
   "metadata": {},
   "source": [
    "## Decision Tree"
   ]
  },
  {
   "cell_type": "code",
   "execution_count": 39,
   "id": "2bc6154b-c806-492d-b5b2-5a13ff030d23",
   "metadata": {},
   "outputs": [],
   "source": [
    "parametros = {'criterion': ['gini', 'entropy'],\n",
    "              'splitter': ['best', 'random'],\n",
    "              'min_samples_split': [2, 5, 10, 20],\n",
    "              'min_samples_leaf': [1, 5, 10, 20]}"
   ]
  },
  {
   "cell_type": "code",
   "execution_count": 40,
   "id": "b8802824-733d-4bde-84f7-f4280ba05058",
   "metadata": {},
   "outputs": [
    {
     "name": "stdout",
     "output_type": "stream",
     "text": [
      "{'criterion': 'entropy', 'min_samples_leaf': 1, 'min_samples_split': 2, 'splitter': 'best'}\n",
      "0.9229606355855999\n"
     ]
    }
   ],
   "source": [
    "grid_search = GridSearchCV(estimator=DecisionTreeClassifier(), param_grid=parametros)\n",
    "grid_search.fit(x_resample, y_resample)\n",
    "melhores_parametros = grid_search.best_params_\n",
    "melhor_resultado = grid_search.best_score_\n",
    "print(melhores_parametros)\n",
    "print(melhor_resultado)"
   ]
  },
  {
   "cell_type": "markdown",
   "id": "b2b02fb4-c62a-4040-b315-bfae49f0776c",
   "metadata": {},
   "source": [
    "## Random Forest"
   ]
  },
  {
   "cell_type": "code",
   "execution_count": 41,
   "id": "cfc73323-53f3-437d-b1ec-90ab9508dc72",
   "metadata": {},
   "outputs": [],
   "source": [
    "parametros = {'criterion': ['gini', 'entropy'],\n",
    "              'n_estimators': [10, 20, 50, 100],\n",
    "              'min_samples_split': [2, 5, 10, 20],\n",
    "              'min_samples_leaf': [1, 5, 10, 20]}"
   ]
  },
  {
   "cell_type": "code",
   "execution_count": 42,
   "id": "330b3ac6-224e-4345-b94e-4d6cc45dd282",
   "metadata": {},
   "outputs": [
    {
     "name": "stdout",
     "output_type": "stream",
     "text": [
      "{'criterion': 'entropy', 'min_samples_leaf': 1, 'min_samples_split': 2, 'n_estimators': 100}\n",
      "0.964825552487649\n"
     ]
    }
   ],
   "source": [
    "grid_search = GridSearchCV(estimator=RandomForestClassifier(), param_grid=parametros)\n",
    "grid_search.fit(x_resample, y_resample)\n",
    "melhores_parametros = grid_search.best_params_\n",
    "melhor_resultado = grid_search.best_score_\n",
    "print(melhores_parametros)\n",
    "print(melhor_resultado)"
   ]
  },
  {
   "cell_type": "markdown",
   "id": "60e57eb6-a7ea-493b-b3f0-0d3a88746191",
   "metadata": {},
   "source": [
    "## K-Nearest Neighbors (KNN)"
   ]
  },
  {
   "cell_type": "code",
   "execution_count": 43,
   "id": "c926009a-55dd-4389-a401-cd216cf8b35e",
   "metadata": {},
   "outputs": [],
   "source": [
    "parametros = {'weights': ['uniform', 'distance'],\n",
    "              'n_neighbors': [2, 4, 8],\n",
    "              'p': [1, 2, 5]}"
   ]
  },
  {
   "cell_type": "code",
   "execution_count": 44,
   "id": "95104a54-8621-46db-b962-e06d878bced5",
   "metadata": {},
   "outputs": [
    {
     "name": "stdout",
     "output_type": "stream",
     "text": [
      "{'n_neighbors': 2, 'p': 1, 'weights': 'distance'}\n",
      "0.9570050884932348\n"
     ]
    }
   ],
   "source": [
    "grid_search = GridSearchCV(estimator=KNeighborsClassifier(), param_grid=parametros)\n",
    "grid_search.fit(x_resample, y_resample)\n",
    "melhores_parametros = grid_search.best_params_\n",
    "melhor_resultado = grid_search.best_score_\n",
    "print(melhores_parametros)\n",
    "print(melhor_resultado)"
   ]
  },
  {
   "cell_type": "markdown",
   "id": "2be85c29-5fea-40c4-8cfb-fa2d80f345af",
   "metadata": {},
   "source": [
    "## Regressão Logística"
   ]
  },
  {
   "cell_type": "code",
   "execution_count": 45,
   "id": "a0f65f96-9388-4cda-929f-44ca16c5216d",
   "metadata": {},
   "outputs": [],
   "source": [
    "parametros = {'tol': [0.0001, 0.00001, 0.000001],\n",
    "              'C': [1.0, 1.5, 2.0],\n",
    "              'solver': ['lbfgs', 'sag', 'saga']}"
   ]
  },
  {
   "cell_type": "code",
   "execution_count": 47,
   "id": "53297c8b-47aa-41f1-92a2-90d5d3b9bda0",
   "metadata": {},
   "outputs": [],
   "source": [
    "import warnings"
   ]
  },
  {
   "cell_type": "code",
   "execution_count": 48,
   "id": "c6d40c9f-b0d4-4f47-afde-72def6b1b0a2",
   "metadata": {},
   "outputs": [
    {
     "name": "stdout",
     "output_type": "stream",
     "text": [
      "{'C': 2.0, 'solver': 'lbfgs', 'tol': 0.0001}\n",
      "0.7821442021856189\n"
     ]
    }
   ],
   "source": [
    "warnings.filterwarnings('ignore')\n",
    "\n",
    "grid_search = GridSearchCV(estimator=LogisticRegression(), param_grid=parametros)\n",
    "grid_search.fit(x_resample, y_resample)\n",
    "melhores_parametros = grid_search.best_params_\n",
    "melhor_resultado = grid_search.best_score_\n",
    "print(melhores_parametros)\n",
    "print(melhor_resultado)"
   ]
  },
  {
   "cell_type": "markdown",
   "id": "98db3bfd-3913-429b-9119-3fd206a67ad9",
   "metadata": {},
   "source": [
    "## Suport Vector Machine (SVM)"
   ]
  },
  {
   "cell_type": "code",
   "execution_count": 49,
   "id": "399a345e-35ca-478b-91b1-8ef6166a6f7c",
   "metadata": {},
   "outputs": [],
   "source": [
    "parametros = {'tol': [0.001, 0.0001, 0.00001],\n",
    "              'C': [1.0, 1.5, 2.0],\n",
    "              'kernel': ['rbf', 'linear', 'poly', 'sigmoid']}"
   ]
  },
  {
   "cell_type": "code",
   "execution_count": 50,
   "id": "15687ded-edc6-4bca-919c-a39968a12d33",
   "metadata": {},
   "outputs": [
    {
     "name": "stdout",
     "output_type": "stream",
     "text": [
      "{'C': 2.0, 'kernel': 'rbf', 'tol': 0.001}\n",
      "0.8960093412464163\n"
     ]
    }
   ],
   "source": [
    "grid_search = GridSearchCV(estimator=SVC(), param_grid=parametros)\n",
    "grid_search.fit(x_resample, y_resample)\n",
    "melhores_parametros = grid_search.best_params_\n",
    "melhor_resultado = grid_search.best_score_\n",
    "print(melhores_parametros)\n",
    "print(melhor_resultado)"
   ]
  },
  {
   "cell_type": "markdown",
   "id": "b87ed642-04e5-49f6-9ea2-12613ac29bb3",
   "metadata": {},
   "source": [
    "# Cross Validation"
   ]
  },
  {
   "cell_type": "code",
   "execution_count": 64,
   "id": "397b71e3-ac37-477a-8d2c-536f34b31381",
   "metadata": {},
   "outputs": [],
   "source": [
    "from sklearn.model_selection import cross_val_score, KFold"
   ]
  },
  {
   "cell_type": "code",
   "execution_count": 65,
   "id": "4671e04c-6b66-4a31-8715-3a74145af402",
   "metadata": {},
   "outputs": [],
   "source": [
    "resultados_arvore = []\n",
    "resultados_random_forest = []\n",
    "resultados_knn = []\n",
    "resultados_logistica = []\n",
    "resultados_svm = []\n",
    "\n",
    "for i in range(30):\n",
    "    \n",
    "  kfold = KFold(n_splits=10, shuffle=True, random_state=i)\n",
    "\n",
    "  # decision tree  \n",
    "  arvore = DecisionTreeClassifier(criterion='entropy', min_samples_leaf=1, min_samples_split=2, splitter='best')\n",
    "  scores = cross_val_score(arvore, x_resample, y_resample, cv = kfold)\n",
    "  resultados_arvore.append(scores.mean())\n",
    "    \n",
    "  #random forest  \n",
    "  random_forest = RandomForestClassifier(criterion = 'entropy', min_samples_leaf = 1, min_samples_split=2, n_estimators = 100)\n",
    "  scores = cross_val_score(random_forest, x_resample, y_resample, cv = kfold)\n",
    "  resultados_random_forest.append(scores.mean())\n",
    "    \n",
    "  #knn  \n",
    "  knn = KNeighborsClassifier(n_neighbors = 2, p = 1, weights = 'distance')\n",
    "  scores = cross_val_score(knn, x_resample, y_resample, cv = kfold)\n",
    "  resultados_knn.append(scores.mean())\n",
    "    \n",
    "  #regressão logistica  \n",
    "  logistica = LogisticRegression(C = 2.0, solver = 'lbfgs', tol = 0.0001)\n",
    "  scores = cross_val_score(logistica, x_resample, y_resample, cv = kfold)\n",
    "  resultados_logistica.append(scores.mean())\n",
    "\n",
    "  #svm  \n",
    "  svm = SVC(kernel = 'rbf', C = 2.0, tol = 0.001)\n",
    "  scores = cross_val_score(svm, x_resample, y_resample, cv = kfold)\n",
    "  resultados_svm.append(scores.mean())"
   ]
  },
  {
   "cell_type": "code",
   "execution_count": 66,
   "id": "9d09fd2a-99d3-4f49-9287-578615667957",
   "metadata": {},
   "outputs": [
    {
     "data": {
      "text/html": [
       "<div>\n",
       "<style scoped>\n",
       "    .dataframe tbody tr th:only-of-type {\n",
       "        vertical-align: middle;\n",
       "    }\n",
       "\n",
       "    .dataframe tbody tr th {\n",
       "        vertical-align: top;\n",
       "    }\n",
       "\n",
       "    .dataframe thead th {\n",
       "        text-align: right;\n",
       "    }\n",
       "</style>\n",
       "<table border=\"1\" class=\"dataframe\">\n",
       "  <thead>\n",
       "    <tr style=\"text-align: right;\">\n",
       "      <th></th>\n",
       "      <th>Arvore</th>\n",
       "      <th>Random forest</th>\n",
       "      <th>KNN</th>\n",
       "      <th>Logistica</th>\n",
       "      <th>SVM</th>\n",
       "    </tr>\n",
       "  </thead>\n",
       "  <tbody>\n",
       "    <tr>\n",
       "      <th>0</th>\n",
       "      <td>0.928820</td>\n",
       "      <td>0.966263</td>\n",
       "      <td>0.963175</td>\n",
       "      <td>0.781320</td>\n",
       "      <td>0.899197</td>\n",
       "    </tr>\n",
       "    <tr>\n",
       "      <th>1</th>\n",
       "      <td>0.927176</td>\n",
       "      <td>0.966570</td>\n",
       "      <td>0.959883</td>\n",
       "      <td>0.781114</td>\n",
       "      <td>0.898990</td>\n",
       "    </tr>\n",
       "    <tr>\n",
       "      <th>2</th>\n",
       "      <td>0.927997</td>\n",
       "      <td>0.966365</td>\n",
       "      <td>0.962661</td>\n",
       "      <td>0.781630</td>\n",
       "      <td>0.899095</td>\n",
       "    </tr>\n",
       "    <tr>\n",
       "      <th>3</th>\n",
       "      <td>0.927894</td>\n",
       "      <td>0.965542</td>\n",
       "      <td>0.960914</td>\n",
       "      <td>0.781423</td>\n",
       "      <td>0.898374</td>\n",
       "    </tr>\n",
       "    <tr>\n",
       "      <th>4</th>\n",
       "      <td>0.929643</td>\n",
       "      <td>0.966159</td>\n",
       "      <td>0.961016</td>\n",
       "      <td>0.781424</td>\n",
       "      <td>0.899507</td>\n",
       "    </tr>\n",
       "    <tr>\n",
       "      <th>5</th>\n",
       "      <td>0.923678</td>\n",
       "      <td>0.966363</td>\n",
       "      <td>0.960603</td>\n",
       "      <td>0.780703</td>\n",
       "      <td>0.898578</td>\n",
       "    </tr>\n",
       "    <tr>\n",
       "      <th>6</th>\n",
       "      <td>0.927587</td>\n",
       "      <td>0.966982</td>\n",
       "      <td>0.961017</td>\n",
       "      <td>0.779779</td>\n",
       "      <td>0.897962</td>\n",
       "    </tr>\n",
       "    <tr>\n",
       "      <th>7</th>\n",
       "      <td>0.925119</td>\n",
       "      <td>0.966777</td>\n",
       "      <td>0.959780</td>\n",
       "      <td>0.781523</td>\n",
       "      <td>0.898272</td>\n",
       "    </tr>\n",
       "    <tr>\n",
       "      <th>8</th>\n",
       "      <td>0.923267</td>\n",
       "      <td>0.965131</td>\n",
       "      <td>0.960913</td>\n",
       "      <td>0.781426</td>\n",
       "      <td>0.898273</td>\n",
       "    </tr>\n",
       "    <tr>\n",
       "      <th>9</th>\n",
       "      <td>0.929645</td>\n",
       "      <td>0.965852</td>\n",
       "      <td>0.962765</td>\n",
       "      <td>0.781732</td>\n",
       "      <td>0.900227</td>\n",
       "    </tr>\n",
       "    <tr>\n",
       "      <th>10</th>\n",
       "      <td>0.925941</td>\n",
       "      <td>0.965953</td>\n",
       "      <td>0.962354</td>\n",
       "      <td>0.781628</td>\n",
       "      <td>0.899197</td>\n",
       "    </tr>\n",
       "    <tr>\n",
       "      <th>11</th>\n",
       "      <td>0.930260</td>\n",
       "      <td>0.965851</td>\n",
       "      <td>0.961119</td>\n",
       "      <td>0.782041</td>\n",
       "      <td>0.898478</td>\n",
       "    </tr>\n",
       "    <tr>\n",
       "      <th>12</th>\n",
       "      <td>0.927174</td>\n",
       "      <td>0.963278</td>\n",
       "      <td>0.959884</td>\n",
       "      <td>0.782246</td>\n",
       "      <td>0.898888</td>\n",
       "    </tr>\n",
       "    <tr>\n",
       "      <th>13</th>\n",
       "      <td>0.925530</td>\n",
       "      <td>0.964822</td>\n",
       "      <td>0.962044</td>\n",
       "      <td>0.781835</td>\n",
       "      <td>0.898683</td>\n",
       "    </tr>\n",
       "    <tr>\n",
       "      <th>14</th>\n",
       "      <td>0.928719</td>\n",
       "      <td>0.967703</td>\n",
       "      <td>0.962251</td>\n",
       "      <td>0.781629</td>\n",
       "      <td>0.898683</td>\n",
       "    </tr>\n",
       "    <tr>\n",
       "      <th>15</th>\n",
       "      <td>0.928102</td>\n",
       "      <td>0.966468</td>\n",
       "      <td>0.961429</td>\n",
       "      <td>0.780911</td>\n",
       "      <td>0.896524</td>\n",
       "    </tr>\n",
       "    <tr>\n",
       "      <th>16</th>\n",
       "      <td>0.929333</td>\n",
       "      <td>0.967084</td>\n",
       "      <td>0.961117</td>\n",
       "      <td>0.781218</td>\n",
       "      <td>0.898272</td>\n",
       "    </tr>\n",
       "    <tr>\n",
       "      <th>17</th>\n",
       "      <td>0.923885</td>\n",
       "      <td>0.965439</td>\n",
       "      <td>0.961428</td>\n",
       "      <td>0.781424</td>\n",
       "      <td>0.898272</td>\n",
       "    </tr>\n",
       "    <tr>\n",
       "      <th>18</th>\n",
       "      <td>0.923165</td>\n",
       "      <td>0.966057</td>\n",
       "      <td>0.961324</td>\n",
       "      <td>0.781115</td>\n",
       "      <td>0.898375</td>\n",
       "    </tr>\n",
       "    <tr>\n",
       "      <th>19</th>\n",
       "      <td>0.930159</td>\n",
       "      <td>0.967806</td>\n",
       "      <td>0.962252</td>\n",
       "      <td>0.782044</td>\n",
       "      <td>0.898069</td>\n",
       "    </tr>\n",
       "    <tr>\n",
       "      <th>20</th>\n",
       "      <td>0.927176</td>\n",
       "      <td>0.966775</td>\n",
       "      <td>0.961428</td>\n",
       "      <td>0.781525</td>\n",
       "      <td>0.898991</td>\n",
       "    </tr>\n",
       "    <tr>\n",
       "      <th>21</th>\n",
       "      <td>0.927690</td>\n",
       "      <td>0.966777</td>\n",
       "      <td>0.961120</td>\n",
       "      <td>0.782453</td>\n",
       "      <td>0.898786</td>\n",
       "    </tr>\n",
       "    <tr>\n",
       "      <th>22</th>\n",
       "      <td>0.924603</td>\n",
       "      <td>0.966880</td>\n",
       "      <td>0.960502</td>\n",
       "      <td>0.781114</td>\n",
       "      <td>0.898376</td>\n",
       "    </tr>\n",
       "    <tr>\n",
       "      <th>23</th>\n",
       "      <td>0.927792</td>\n",
       "      <td>0.966570</td>\n",
       "      <td>0.961017</td>\n",
       "      <td>0.781526</td>\n",
       "      <td>0.899918</td>\n",
       "    </tr>\n",
       "    <tr>\n",
       "      <th>24</th>\n",
       "      <td>0.931703</td>\n",
       "      <td>0.967186</td>\n",
       "      <td>0.961324</td>\n",
       "      <td>0.782350</td>\n",
       "      <td>0.899711</td>\n",
       "    </tr>\n",
       "    <tr>\n",
       "      <th>25</th>\n",
       "      <td>0.923574</td>\n",
       "      <td>0.965542</td>\n",
       "      <td>0.961736</td>\n",
       "      <td>0.782041</td>\n",
       "      <td>0.898994</td>\n",
       "    </tr>\n",
       "    <tr>\n",
       "      <th>26</th>\n",
       "      <td>0.932318</td>\n",
       "      <td>0.967599</td>\n",
       "      <td>0.961838</td>\n",
       "      <td>0.781319</td>\n",
       "      <td>0.898886</td>\n",
       "    </tr>\n",
       "    <tr>\n",
       "      <th>27</th>\n",
       "      <td>0.926042</td>\n",
       "      <td>0.968628</td>\n",
       "      <td>0.961324</td>\n",
       "      <td>0.781320</td>\n",
       "      <td>0.897965</td>\n",
       "    </tr>\n",
       "    <tr>\n",
       "      <th>28</th>\n",
       "      <td>0.922236</td>\n",
       "      <td>0.966468</td>\n",
       "      <td>0.963279</td>\n",
       "      <td>0.780807</td>\n",
       "      <td>0.898272</td>\n",
       "    </tr>\n",
       "    <tr>\n",
       "      <th>29</th>\n",
       "      <td>0.926559</td>\n",
       "      <td>0.966879</td>\n",
       "      <td>0.961840</td>\n",
       "      <td>0.781627</td>\n",
       "      <td>0.898478</td>\n",
       "    </tr>\n",
       "  </tbody>\n",
       "</table>\n",
       "</div>"
      ],
      "text/plain": [
       "      Arvore  Random forest       KNN  Logistica       SVM\n",
       "0   0.928820       0.966263  0.963175   0.781320  0.899197\n",
       "1   0.927176       0.966570  0.959883   0.781114  0.898990\n",
       "2   0.927997       0.966365  0.962661   0.781630  0.899095\n",
       "3   0.927894       0.965542  0.960914   0.781423  0.898374\n",
       "4   0.929643       0.966159  0.961016   0.781424  0.899507\n",
       "5   0.923678       0.966363  0.960603   0.780703  0.898578\n",
       "6   0.927587       0.966982  0.961017   0.779779  0.897962\n",
       "7   0.925119       0.966777  0.959780   0.781523  0.898272\n",
       "8   0.923267       0.965131  0.960913   0.781426  0.898273\n",
       "9   0.929645       0.965852  0.962765   0.781732  0.900227\n",
       "10  0.925941       0.965953  0.962354   0.781628  0.899197\n",
       "11  0.930260       0.965851  0.961119   0.782041  0.898478\n",
       "12  0.927174       0.963278  0.959884   0.782246  0.898888\n",
       "13  0.925530       0.964822  0.962044   0.781835  0.898683\n",
       "14  0.928719       0.967703  0.962251   0.781629  0.898683\n",
       "15  0.928102       0.966468  0.961429   0.780911  0.896524\n",
       "16  0.929333       0.967084  0.961117   0.781218  0.898272\n",
       "17  0.923885       0.965439  0.961428   0.781424  0.898272\n",
       "18  0.923165       0.966057  0.961324   0.781115  0.898375\n",
       "19  0.930159       0.967806  0.962252   0.782044  0.898069\n",
       "20  0.927176       0.966775  0.961428   0.781525  0.898991\n",
       "21  0.927690       0.966777  0.961120   0.782453  0.898786\n",
       "22  0.924603       0.966880  0.960502   0.781114  0.898376\n",
       "23  0.927792       0.966570  0.961017   0.781526  0.899918\n",
       "24  0.931703       0.967186  0.961324   0.782350  0.899711\n",
       "25  0.923574       0.965542  0.961736   0.782041  0.898994\n",
       "26  0.932318       0.967599  0.961838   0.781319  0.898886\n",
       "27  0.926042       0.968628  0.961324   0.781320  0.897965\n",
       "28  0.922236       0.966468  0.963279   0.780807  0.898272\n",
       "29  0.926559       0.966879  0.961840   0.781627  0.898478"
      ]
     },
     "execution_count": 66,
     "metadata": {},
     "output_type": "execute_result"
    }
   ],
   "source": [
    "resultados = pd.DataFrame({'Arvore': resultados_arvore, 'Random forest': resultados_random_forest,\n",
    "                           'KNN': resultados_knn, 'Logistica': resultados_logistica,\n",
    "                           'SVM': resultados_svm})\n",
    "resultados"
   ]
  },
  {
   "cell_type": "code",
   "execution_count": 67,
   "id": "04824924-35bf-4026-9717-d2f8b838ae3e",
   "metadata": {},
   "outputs": [
    {
     "data": {
      "text/html": [
       "<div>\n",
       "<style scoped>\n",
       "    .dataframe tbody tr th:only-of-type {\n",
       "        vertical-align: middle;\n",
       "    }\n",
       "\n",
       "    .dataframe tbody tr th {\n",
       "        vertical-align: top;\n",
       "    }\n",
       "\n",
       "    .dataframe thead th {\n",
       "        text-align: right;\n",
       "    }\n",
       "</style>\n",
       "<table border=\"1\" class=\"dataframe\">\n",
       "  <thead>\n",
       "    <tr style=\"text-align: right;\">\n",
       "      <th></th>\n",
       "      <th>Arvore</th>\n",
       "      <th>Random forest</th>\n",
       "      <th>KNN</th>\n",
       "      <th>Logistica</th>\n",
       "      <th>SVM</th>\n",
       "    </tr>\n",
       "  </thead>\n",
       "  <tbody>\n",
       "    <tr>\n",
       "      <th>count</th>\n",
       "      <td>30.000000</td>\n",
       "      <td>30.000000</td>\n",
       "      <td>30.000000</td>\n",
       "      <td>30.000000</td>\n",
       "      <td>30.000000</td>\n",
       "    </tr>\n",
       "    <tr>\n",
       "      <th>mean</th>\n",
       "      <td>0.927093</td>\n",
       "      <td>0.966392</td>\n",
       "      <td>0.961445</td>\n",
       "      <td>0.781475</td>\n",
       "      <td>0.898676</td>\n",
       "    </tr>\n",
       "    <tr>\n",
       "      <th>std</th>\n",
       "      <td>0.002616</td>\n",
       "      <td>0.001012</td>\n",
       "      <td>0.000894</td>\n",
       "      <td>0.000537</td>\n",
       "      <td>0.000695</td>\n",
       "    </tr>\n",
       "    <tr>\n",
       "      <th>min</th>\n",
       "      <td>0.922236</td>\n",
       "      <td>0.963278</td>\n",
       "      <td>0.959780</td>\n",
       "      <td>0.779779</td>\n",
       "      <td>0.896524</td>\n",
       "    </tr>\n",
       "    <tr>\n",
       "      <th>25%</th>\n",
       "      <td>0.925222</td>\n",
       "      <td>0.965877</td>\n",
       "      <td>0.961016</td>\n",
       "      <td>0.781243</td>\n",
       "      <td>0.898273</td>\n",
       "    </tr>\n",
       "    <tr>\n",
       "      <th>50%</th>\n",
       "      <td>0.927381</td>\n",
       "      <td>0.966468</td>\n",
       "      <td>0.961324</td>\n",
       "      <td>0.781474</td>\n",
       "      <td>0.898630</td>\n",
       "    </tr>\n",
       "    <tr>\n",
       "      <th>75%</th>\n",
       "      <td>0.928795</td>\n",
       "      <td>0.966880</td>\n",
       "      <td>0.961993</td>\n",
       "      <td>0.781707</td>\n",
       "      <td>0.898993</td>\n",
       "    </tr>\n",
       "    <tr>\n",
       "      <th>max</th>\n",
       "      <td>0.932318</td>\n",
       "      <td>0.968628</td>\n",
       "      <td>0.963279</td>\n",
       "      <td>0.782453</td>\n",
       "      <td>0.900227</td>\n",
       "    </tr>\n",
       "  </tbody>\n",
       "</table>\n",
       "</div>"
      ],
      "text/plain": [
       "          Arvore  Random forest        KNN  Logistica        SVM\n",
       "count  30.000000      30.000000  30.000000  30.000000  30.000000\n",
       "mean    0.927093       0.966392   0.961445   0.781475   0.898676\n",
       "std     0.002616       0.001012   0.000894   0.000537   0.000695\n",
       "min     0.922236       0.963278   0.959780   0.779779   0.896524\n",
       "25%     0.925222       0.965877   0.961016   0.781243   0.898273\n",
       "50%     0.927381       0.966468   0.961324   0.781474   0.898630\n",
       "75%     0.928795       0.966880   0.961993   0.781707   0.898993\n",
       "max     0.932318       0.968628   0.963279   0.782453   0.900227"
      ]
     },
     "execution_count": 67,
     "metadata": {},
     "output_type": "execute_result"
    }
   ],
   "source": [
    "resultados.describe()"
   ]
  },
  {
   "cell_type": "markdown",
   "id": "b15912bf-59d0-46fc-aa7e-3f127ff55300",
   "metadata": {},
   "source": [
    "📌 O modelo que apresentou a melhor media de todas as repetições realizadas foi o Random Forest, mas o KNN teve uma média bem próxima e um desvio padrão menor."
   ]
  },
  {
   "cell_type": "markdown",
   "id": "76f2eb12-7269-48fc-adb2-7298e5035bbe",
   "metadata": {},
   "source": [
    "# Teste de normalidade dos dados com Shapiro-Wilk"
   ]
  },
  {
   "cell_type": "code",
   "execution_count": 68,
   "id": "223805ab-7cc9-45aa-a944-1e7322c30f33",
   "metadata": {},
   "outputs": [],
   "source": [
    "from scipy.stats import shapiro"
   ]
  },
  {
   "cell_type": "code",
   "execution_count": 69,
   "id": "763fa6b1-e150-4cb8-861f-4d301ec7558d",
   "metadata": {},
   "outputs": [
    {
     "data": {
      "text/plain": [
       "(ShapiroResult(statistic=0.9755504727363586, pvalue=0.6989489793777466),\n",
       " ShapiroResult(statistic=0.957554817199707, pvalue=0.2679007649421692),\n",
       " ShapiroResult(statistic=0.9672006964683533, pvalue=0.4656912386417389),\n",
       " ShapiroResult(statistic=0.9431373476982117, pvalue=0.11050885915756226),\n",
       " ShapiroResult(statistic=0.9356256723403931, pvalue=0.06938589364290237))"
      ]
     },
     "execution_count": 69,
     "metadata": {},
     "output_type": "execute_result"
    }
   ],
   "source": [
    "shapiro(resultados_arvore), shapiro(resultados_random_forest), shapiro(resultados_knn), shapiro(resultados_logistica), shapiro(resultados_svm)"
   ]
  },
  {
   "cell_type": "code",
   "execution_count": 70,
   "id": "9b637ba0-4d7a-4c5f-b966-ca122e51b320",
   "metadata": {},
   "outputs": [
    {
     "data": {
      "image/png": "[encoded data removed]",
      "text/plain": [
       "<Figure size 1440x1440 with 5 Axes>"
      ]
     },
     "metadata": {
      "needs_background": "light"
     },
     "output_type": "display_data"
    }
   ],
   "source": [
    "fig = plt.figure(figsize=(20,20))\n",
    "ax1 = fig.add_subplot(331)\n",
    "ax2 = fig.add_subplot(332)\n",
    "ax3 = fig.add_subplot(333)\n",
    "ax4 = fig.add_subplot(334)\n",
    "ax5 = fig.add_subplot(335)\n",
    "ax1.set_title('Densidade Decision Tree')\n",
    "ax2.set_title('Densidade Random Forest')\n",
    "ax3.set_title('Densidade KNN')\n",
    "ax4.set_title('Densidade Regressão Logística')\n",
    "ax5.set_title('Densidade SVM')\n",
    "\n",
    "\n",
    "\n",
    "sns.kdeplot(resultados.iloc[:,0],ax=ax1)\n",
    "sns.kdeplot(resultados.iloc[:,1],ax=ax2)\n",
    "sns.kdeplot(resultados.iloc[:,2],ax=ax3)\n",
    "sns.kdeplot(resultados.iloc[:,3],ax=ax4)\n",
    "sns.kdeplot(resultados.iloc[:,4],ax=ax5);"
   ]
  },
  {
   "cell_type": "markdown",
   "id": "12a9937a-b8e4-43ff-9ec5-02075302bd24",
   "metadata": {},
   "source": [
    "📌 No teste de Shapiro-Wilk temos que a hipótese nula é que os dados seguem normalidade, dito isso, podemos afirmar que nós não rejeitamos a hipótese nula com 95% de confiança, pois todos os valores de `p` obtidos através do teste foram maiores que 0,05."
   ]
  },
  {
   "cell_type": "markdown",
   "id": "64bc3a93-75bd-467b-94fb-9a70eb1f33f6",
   "metadata": {},
   "source": [
    "# Teste de hipótese com ANOVA e Tukey"
   ]
  },
  {
   "cell_type": "code",
   "execution_count": 72,
   "id": "5dc07d6a-4508-4c40-82dd-1095621ca1bc",
   "metadata": {},
   "outputs": [],
   "source": [
    "from scipy.stats import f_oneway"
   ]
  },
  {
   "cell_type": "code",
   "execution_count": 73,
   "id": "e5a87dff-6af8-45b4-ae2a-8d5a40825d4d",
   "metadata": {},
   "outputs": [],
   "source": [
    "resultados_algoritmos = {'accuracy': np.concatenate([resultados_arvore, resultados_random_forest, resultados_knn, resultados_logistica, resultados_svm]),\n",
    "                         'algoritmo': ['arvore','arvore','arvore','arvore','arvore','arvore','arvore','arvore','arvore','arvore','arvore','arvore','arvore','arvore','arvore','arvore','arvore','arvore','arvore','arvore','arvore','arvore','arvore','arvore','arvore','arvore','arvore','arvore','arvore','arvore', \n",
    "                          'random_forest','random_forest','random_forest','random_forest','random_forest','random_forest','random_forest','random_forest','random_forest','random_forest','random_forest','random_forest','random_forest','random_forest','random_forest','random_forest','random_forest','random_forest','random_forest','random_forest','random_forest','random_forest','random_forest','random_forest','random_forest','random_forest','random_forest','random_forest','random_forest','random_forest', \n",
    "                          'knn','knn','knn','knn','knn','knn','knn','knn','knn','knn','knn','knn','knn','knn','knn','knn','knn','knn','knn','knn','knn','knn','knn','knn','knn','knn','knn','knn','knn','knn', \n",
    "                          'logistica','logistica','logistica','logistica','logistica','logistica','logistica','logistica','logistica','logistica','logistica','logistica','logistica','logistica','logistica','logistica','logistica','logistica','logistica','logistica','logistica','logistica','logistica','logistica','logistica','logistica','logistica','logistica','logistica','logistica',\n",
    "                          'svm','svm','svm','svm','svm','svm','svm','svm','svm','svm','svm','svm','svm','svm','svm','svm','svm','svm','svm','svm','svm','svm','svm','svm','svm','svm','svm','svm','svm','svm']}"
   ]
  },
  {
   "cell_type": "code",
   "execution_count": 74,
   "id": "d7feb478-7a5f-46f1-86fe-31531f54a76c",
   "metadata": {},
   "outputs": [
    {
     "data": {
      "text/html": [
       "<div>\n",
       "<style scoped>\n",
       "    .dataframe tbody tr th:only-of-type {\n",
       "        vertical-align: middle;\n",
       "    }\n",
       "\n",
       "    .dataframe tbody tr th {\n",
       "        vertical-align: top;\n",
       "    }\n",
       "\n",
       "    .dataframe thead th {\n",
       "        text-align: right;\n",
       "    }\n",
       "</style>\n",
       "<table border=\"1\" class=\"dataframe\">\n",
       "  <thead>\n",
       "    <tr style=\"text-align: right;\">\n",
       "      <th></th>\n",
       "      <th>accuracy</th>\n",
       "      <th>algoritmo</th>\n",
       "    </tr>\n",
       "  </thead>\n",
       "  <tbody>\n",
       "    <tr>\n",
       "      <th>0</th>\n",
       "      <td>0.928820</td>\n",
       "      <td>arvore</td>\n",
       "    </tr>\n",
       "    <tr>\n",
       "      <th>1</th>\n",
       "      <td>0.927176</td>\n",
       "      <td>arvore</td>\n",
       "    </tr>\n",
       "    <tr>\n",
       "      <th>2</th>\n",
       "      <td>0.927997</td>\n",
       "      <td>arvore</td>\n",
       "    </tr>\n",
       "    <tr>\n",
       "      <th>3</th>\n",
       "      <td>0.927894</td>\n",
       "      <td>arvore</td>\n",
       "    </tr>\n",
       "    <tr>\n",
       "      <th>4</th>\n",
       "      <td>0.929643</td>\n",
       "      <td>arvore</td>\n",
       "    </tr>\n",
       "    <tr>\n",
       "      <th>...</th>\n",
       "      <td>...</td>\n",
       "      <td>...</td>\n",
       "    </tr>\n",
       "    <tr>\n",
       "      <th>145</th>\n",
       "      <td>0.898994</td>\n",
       "      <td>svm</td>\n",
       "    </tr>\n",
       "    <tr>\n",
       "      <th>146</th>\n",
       "      <td>0.898886</td>\n",
       "      <td>svm</td>\n",
       "    </tr>\n",
       "    <tr>\n",
       "      <th>147</th>\n",
       "      <td>0.897965</td>\n",
       "      <td>svm</td>\n",
       "    </tr>\n",
       "    <tr>\n",
       "      <th>148</th>\n",
       "      <td>0.898272</td>\n",
       "      <td>svm</td>\n",
       "    </tr>\n",
       "    <tr>\n",
       "      <th>149</th>\n",
       "      <td>0.898478</td>\n",
       "      <td>svm</td>\n",
       "    </tr>\n",
       "  </tbody>\n",
       "</table>\n",
       "<p>150 rows × 2 columns</p>\n",
       "</div>"
      ],
      "text/plain": [
       "     accuracy algoritmo\n",
       "0    0.928820    arvore\n",
       "1    0.927176    arvore\n",
       "2    0.927997    arvore\n",
       "3    0.927894    arvore\n",
       "4    0.929643    arvore\n",
       "..        ...       ...\n",
       "145  0.898994       svm\n",
       "146  0.898886       svm\n",
       "147  0.897965       svm\n",
       "148  0.898272       svm\n",
       "149  0.898478       svm\n",
       "\n",
       "[150 rows x 2 columns]"
      ]
     },
     "execution_count": 74,
     "metadata": {},
     "output_type": "execute_result"
    }
   ],
   "source": [
    "resultados_df = pd.DataFrame(resultados_algoritmos)\n",
    "resultados_df"
   ]
  },
  {
   "cell_type": "code",
   "execution_count": 76,
   "id": "a61167a1-1e1f-4757-95bc-3806693d1b7f",
   "metadata": {},
   "outputs": [],
   "source": [
    "from statsmodels.stats.multicomp import MultiComparison\n",
    "compara_algoritmos = MultiComparison(resultados_df['accuracy'], resultados_df['algoritmo'])"
   ]
  },
  {
   "cell_type": "code",
   "execution_count": 77,
   "id": "eb4df72b-a7af-4efe-a02d-62e7a0a6aaf5",
   "metadata": {},
   "outputs": [
    {
     "name": "stdout",
     "output_type": "stream",
     "text": [
      "       Multiple Comparison of Means - Tukey HSD, FWER=0.05       \n",
      "=================================================================\n",
      "    group1        group2    meandiff p-adj  lower   upper  reject\n",
      "-----------------------------------------------------------------\n",
      "       arvore           knn   0.0344 0.001  0.0334  0.0353   True\n",
      "       arvore     logistica  -0.1456 0.001 -0.1466 -0.1446   True\n",
      "       arvore random_forest   0.0393 0.001  0.0383  0.0403   True\n",
      "       arvore           svm  -0.0284 0.001 -0.0294 -0.0274   True\n",
      "          knn     logistica    -0.18 0.001 -0.1809  -0.179   True\n",
      "          knn random_forest   0.0049 0.001   0.004  0.0059   True\n",
      "          knn           svm  -0.0628 0.001 -0.0637 -0.0618   True\n",
      "    logistica random_forest   0.1849 0.001  0.1839  0.1859   True\n",
      "    logistica           svm   0.1172 0.001  0.1162  0.1182   True\n",
      "random_forest           svm  -0.0677 0.001 -0.0687 -0.0667   True\n",
      "-----------------------------------------------------------------\n"
     ]
    }
   ],
   "source": [
    "teste_estatistico = compara_algoritmos.tukeyhsd()\n",
    "print(teste_estatistico)"
   ]
  },
  {
   "cell_type": "markdown",
   "id": "8c0104bc-aa2b-471a-ae7f-a2f0130f2330",
   "metadata": {},
   "source": [
    "📌 De acordo com o teste Tukey, nenhum dos modelos obteve a média estatísticamente igual a de outro, ou seja, as médias dos resultados desses modelos diferem estatísticamente um do outro com 95% de confiança."
   ]
  },
  {
   "cell_type": "code",
   "execution_count": 79,
   "id": "a41147b3-0046-429a-9665-961a69ddd144",
   "metadata": {},
   "outputs": [
    {
     "data": {
      "image/png": "[encoded data removed]",
      "text/plain": [
       "<Figure size 720x432 with 1 Axes>"
      ]
     },
     "metadata": {
      "needs_background": "light"
     },
     "output_type": "display_data"
    }
   ],
   "source": [
    "teste_estatistico.plot_simultaneous();"
   ]
  },
  {
   "cell_type": "markdown",
   "id": "fcba3852-7674-4d0c-aea6-e17d50472421",
   "metadata": {},
   "source": [
    "📌 Com base nas informações adquiridas acima, proseguiremos com o teste dos três melhores modelos, são eles:\n",
    "\n",
    "- Decision Tree\n",
    "- Random Forest\n",
    "- KNN"
   ]
  },
  {
   "cell_type": "markdown",
   "id": "8ea5f1bc-9b8c-455c-8737-4e0cdc246b4d",
   "metadata": {},
   "source": [
    "# Teste dos modelos"
   ]
  },
  {
   "cell_type": "markdown",
   "id": "ac1fe9a8-fb56-4a68-96f0-0d5f18133fe7",
   "metadata": {},
   "source": [
    "## Bibliotecas necessárias"
   ]
  },
  {
   "cell_type": "code",
   "execution_count": 107,
   "id": "853df6e7-171d-47e8-b37e-5d3cf1cdac54",
   "metadata": {},
   "outputs": [],
   "source": [
    "from sklearn.model_selection import train_test_split\n",
    "from sklearn.metrics import accuracy_score, classification_report\n",
    "from yellowbrick.classifier import ConfusionMatrix\n",
    "from sklearn.metrics import classification_report,confusion_matrix,accuracy_score,roc_curve, auc"
   ]
  },
  {
   "cell_type": "markdown",
   "id": "49b65b92-0f97-4c78-a0d5-2d7c51569b49",
   "metadata": {},
   "source": [
    "## Dividindo o banco de dados em treino e teste"
   ]
  },
  {
   "cell_type": "code",
   "execution_count": 86,
   "id": "fce62dee-9e95-4a32-9d73-65d56b038c04",
   "metadata": {},
   "outputs": [
    {
     "data": {
      "text/plain": [
       "((7291, 21), (7291,), (2431, 21), (2431,))"
      ]
     },
     "execution_count": 86,
     "metadata": {},
     "output_type": "execute_result"
    }
   ],
   "source": [
    "x_train, x_test, y_train, y_test = train_test_split(x_resample,y_resample, test_size=0.25, random_state=1)\n",
    "x_train.shape, y_train.shape, x_test.shape, y_test.shape"
   ]
  },
  {
   "cell_type": "markdown",
   "id": "3b3da7b0-81a9-474e-ba30-8c9c47fab68b",
   "metadata": {},
   "source": [
    "## Aplicando o modelo Decision Tree"
   ]
  },
  {
   "cell_type": "code",
   "execution_count": 87,
   "id": "05e42d55-f4ba-4ff4-bcb1-d663aad4427f",
   "metadata": {},
   "outputs": [
    {
     "data": {
      "text/plain": [
       "DecisionTreeClassifier(criterion='entropy', random_state=1)"
      ]
     },
     "execution_count": 87,
     "metadata": {},
     "output_type": "execute_result"
    }
   ],
   "source": [
    "dt = DecisionTreeClassifier(criterion='entropy', min_samples_leaf=1, min_samples_split=2, splitter='best', random_state = 1)\n",
    "dt.fit(x_train, y_train)"
   ]
  },
  {
   "cell_type": "code",
   "execution_count": 88,
   "id": "11a6b09e-bb0a-4a0e-b6c7-539da51d56dd",
   "metadata": {},
   "outputs": [
    {
     "data": {
      "text/plain": [
       "array([0, 0, 0, ..., 0, 1, 0], dtype=int64)"
      ]
     },
     "execution_count": 88,
     "metadata": {},
     "output_type": "execute_result"
    }
   ],
   "source": [
    "previsoes_dt = dt.predict(x_test)\n",
    "previsoes_dt"
   ]
  },
  {
   "cell_type": "code",
   "execution_count": 89,
   "id": "8111cf85-55aa-4f3c-9c88-1e281b3d6dfa",
   "metadata": {},
   "outputs": [
    {
     "data": {
      "text/plain": [
       "0.9288358700123406"
      ]
     },
     "execution_count": 89,
     "metadata": {},
     "output_type": "execute_result"
    }
   ],
   "source": [
    "accuracy_score(y_test, previsoes_dt)"
   ]
  },
  {
   "cell_type": "code",
   "execution_count": 90,
   "id": "a557c242-a69d-4db7-9b40-c146b0b4f942",
   "metadata": {},
   "outputs": [
    {
     "data": {
      "text/plain": [
       "0.9288358700123406"
      ]
     },
     "execution_count": 90,
     "metadata": {},
     "output_type": "execute_result"
    },
    {
     "data": {
      "image/png": "[encoded data removed]",
      "text/plain": [
       "<Figure size 576x396 with 1 Axes>"
      ]
     },
     "metadata": {},
     "output_type": "display_data"
    }
   ],
   "source": [
    "cm = ConfusionMatrix(dt)\n",
    "cm.fit(x_train, y_train)\n",
    "cm.score(x_test, y_test)"
   ]
  },
  {
   "cell_type": "code",
   "execution_count": 91,
   "id": "eeceac38-4f56-4191-aa6e-5f6d4cf33162",
   "metadata": {},
   "outputs": [
    {
     "name": "stdout",
     "output_type": "stream",
     "text": [
      "              precision    recall  f1-score   support\n",
      "\n",
      "           0       0.93      0.92      0.93      1200\n",
      "           1       0.92      0.94      0.93      1231\n",
      "\n",
      "    accuracy                           0.93      2431\n",
      "   macro avg       0.93      0.93      0.93      2431\n",
      "weighted avg       0.93      0.93      0.93      2431\n",
      "\n"
     ]
    }
   ],
   "source": [
    "print(classification_report(y_test, previsoes_dt))"
   ]
  },
  {
   "cell_type": "markdown",
   "id": "278ac5c8-4424-4324-8cf2-02de015b7995",
   "metadata": {},
   "source": [
    "📌 O modelo Decision Tree consegue prever quem não terá AVC em 92% dos casos e acerta 93% das vezes. Ele também consegue prever quem terá AVC em 94% dos casos e acerta 92% das vezes."
   ]
  },
  {
   "cell_type": "markdown",
   "id": "196b6ec8-4ba2-43d6-85ba-8f104be5d7bd",
   "metadata": {},
   "source": [
    "## Aplicando o modelo Random Forest"
   ]
  },
  {
   "cell_type": "code",
   "execution_count": 92,
   "id": "ea276b79-5f14-4676-bff1-4036e58e52e6",
   "metadata": {},
   "outputs": [
    {
     "data": {
      "text/plain": [
       "RandomForestClassifier(criterion='entropy', random_state=1)"
      ]
     },
     "execution_count": 92,
     "metadata": {},
     "output_type": "execute_result"
    }
   ],
   "source": [
    "rf = RandomForestClassifier(criterion = 'entropy', min_samples_leaf = 1, min_samples_split=2, n_estimators = 100, random_state = 1)\n",
    "rf.fit(x_train, y_train)"
   ]
  },
  {
   "cell_type": "code",
   "execution_count": 93,
   "id": "e15ee301-a709-4d45-b4f8-f834ac5dda45",
   "metadata": {},
   "outputs": [
    {
     "data": {
      "text/plain": [
       "array([0, 0, 0, ..., 0, 1, 0], dtype=int64)"
      ]
     },
     "execution_count": 93,
     "metadata": {},
     "output_type": "execute_result"
    }
   ],
   "source": [
    "previsoes_rf = rf.predict(x_test)\n",
    "previsoes_rf"
   ]
  },
  {
   "cell_type": "code",
   "execution_count": 94,
   "id": "166e85da-b198-4d71-8f80-df65b86b8fcd",
   "metadata": {},
   "outputs": [
    {
     "data": {
      "text/plain": [
       "0.9658576717400247"
      ]
     },
     "execution_count": 94,
     "metadata": {},
     "output_type": "execute_result"
    }
   ],
   "source": [
    "accuracy_score(y_test, previsoes_rf)"
   ]
  },
  {
   "cell_type": "code",
   "execution_count": 95,
   "id": "a2dcfe1e-0d93-4795-9565-3e0842466909",
   "metadata": {},
   "outputs": [
    {
     "data": {
      "text/plain": [
       "0.9658576717400247"
      ]
     },
     "execution_count": 95,
     "metadata": {},
     "output_type": "execute_result"
    },
    {
     "data": {
      "image/png": "[encoded data removed]",
      "text/plain": [
       "<Figure size 576x396 with 1 Axes>"
      ]
     },
     "metadata": {},
     "output_type": "display_data"
    }
   ],
   "source": [
    "cm = ConfusionMatrix(rf)\n",
    "cm.fit(x_train, y_train)\n",
    "cm.score(x_test, y_test)"
   ]
  },
  {
   "cell_type": "code",
   "execution_count": 104,
   "id": "1b8759f6-6491-4af0-aa32-fd0f0404b826",
   "metadata": {},
   "outputs": [
    {
     "name": "stdout",
     "output_type": "stream",
     "text": [
      "              precision    recall  f1-score   support\n",
      "\n",
      "           0       0.97      0.96      0.97      1200\n",
      "           1       0.96      0.97      0.97      1231\n",
      "\n",
      "    accuracy                           0.97      2431\n",
      "   macro avg       0.97      0.97      0.97      2431\n",
      "weighted avg       0.97      0.97      0.97      2431\n",
      "\n"
     ]
    }
   ],
   "source": [
    "print(classification_report(y_test, previsoes_rf))"
   ]
  },
  {
   "cell_type": "markdown",
   "id": "ebb67e3f-f773-4dfd-bf75-8b4a8eb2edde",
   "metadata": {},
   "source": [
    "📌 O modelo Decision Tree consegue prever quem não terá AVC em 96% dos casos e acerta 97% das vezes. Ele também consegue prever quem terá AVC em 97% dos casos e acerta 96% das vezes."
   ]
  },
  {
   "cell_type": "markdown",
   "id": "324856fa-2ee2-48db-8754-f4ef0d92e698",
   "metadata": {},
   "source": [
    "## Aplicando o modelo KNN"
   ]
  },
  {
   "cell_type": "code",
   "execution_count": 96,
   "id": "ccc73c33-5233-4a50-9ba6-9875589048de",
   "metadata": {},
   "outputs": [
    {
     "data": {
      "text/plain": [
       "KNeighborsClassifier(n_neighbors=2, p=1, weights='distance')"
      ]
     },
     "execution_count": 96,
     "metadata": {},
     "output_type": "execute_result"
    }
   ],
   "source": [
    "knn = KNeighborsClassifier(n_neighbors = 2, p = 1, weights = 'distance')\n",
    "knn.fit(x_train, y_train)"
   ]
  },
  {
   "cell_type": "code",
   "execution_count": 101,
   "id": "73837b2c-934a-4fef-b053-e2c82f5a8413",
   "metadata": {},
   "outputs": [
    {
     "data": {
      "text/plain": [
       "array([0, 0, 0, ..., 0, 1, 0], dtype=int64)"
      ]
     },
     "execution_count": 101,
     "metadata": {},
     "output_type": "execute_result"
    }
   ],
   "source": [
    "previsoes_knn = knn.predict(x_test)\n",
    "previsoes_knn"
   ]
  },
  {
   "cell_type": "code",
   "execution_count": 102,
   "id": "59e4c451-2e03-4811-ade0-daa426cfbaf7",
   "metadata": {},
   "outputs": [
    {
     "data": {
      "text/plain": [
       "0.9646236116824353"
      ]
     },
     "execution_count": 102,
     "metadata": {},
     "output_type": "execute_result"
    }
   ],
   "source": [
    "accuracy_score(y_test, previsoes_knn)"
   ]
  },
  {
   "cell_type": "code",
   "execution_count": 103,
   "id": "c56301d6-9153-4693-917b-3f162ae73654",
   "metadata": {},
   "outputs": [
    {
     "data": {
      "text/plain": [
       "0.9646236116824353"
      ]
     },
     "execution_count": 103,
     "metadata": {},
     "output_type": "execute_result"
    },
    {
     "data": {
      "image/png": "[encoded data removed]",
      "text/plain": [
       "<Figure size 576x396 with 1 Axes>"
      ]
     },
     "metadata": {},
     "output_type": "display_data"
    }
   ],
   "source": [
    "cm = ConfusionMatrix(knn)\n",
    "cm.fit(x_train, y_train)\n",
    "cm.score(x_test, y_test)"
   ]
  },
  {
   "cell_type": "code",
   "execution_count": 105,
   "id": "ab87a73b-abcb-4298-b721-14f99d436a22",
   "metadata": {},
   "outputs": [
    {
     "name": "stdout",
     "output_type": "stream",
     "text": [
      "              precision    recall  f1-score   support\n",
      "\n",
      "           0       0.98      0.94      0.96      1200\n",
      "           1       0.95      0.99      0.97      1231\n",
      "\n",
      "    accuracy                           0.96      2431\n",
      "   macro avg       0.97      0.96      0.96      2431\n",
      "weighted avg       0.97      0.96      0.96      2431\n",
      "\n"
     ]
    }
   ],
   "source": [
    "print(classification_report(y_test, previsoes_knn))"
   ]
  },
  {
   "cell_type": "markdown",
   "id": "2f2c5aa5-6f52-4d7c-b48b-828f1c5b279e",
   "metadata": {},
   "source": [
    "📌 O modelo Decision Tree consegue prever quem não terá AVC em 94% dos casos e acerta 98% das vezes. Ele também consegue prever quem terá AVC em 99% dos casos e acerta 95% das vezes."
   ]
  },
  {
   "cell_type": "markdown",
   "id": "e2bc505c-a478-431f-9856-063dbae9759f",
   "metadata": {},
   "source": [
    "# Conclusão\n",
    "\n",
    "Os resultados mostram que os modelos de Random Forest e KNN conseguiram um ótimo desempenho, sendo que o Random Forest consegue ser melhor em classificar os pacientes que não terão AVC, enquanto o KNN conseguiu se sair melhor em classificar os pacientes que teriam AVC. Para selecionar o melhor modelo para pôr em produção precisariamos saber qual o mais importante, classificar melhor os que não terão AVC ou os que terão. Os dois modelos se saíram ótimos para classificar ambos, mas cada um foi um pouco melhor que o outro em algum aspecto.\n",
    "\n",
    "Estou muito satisfeito com minha análise. Espero que também tenham gostado.\n",
    "\n",
    "Obrigado!!!!!!!"
   ]
  }
 ],
 "metadata": {
  "kernelspec": {
   "display_name": "Python 3 (ipykernel)",
   "language": "python",
   "name": "python3"
  },
  "language_info": {
   "codemirror_mode": {
    "name": "ipython",
    "version": 3
   },
   "file_extension": ".py",
   "mimetype": "text/x-python",
   "name": "python",
   "nbconvert_exporter": "python",
   "pygments_lexer": "ipython3",
   "version": "3.9.7"
  }
 },
 "nbformat": 4,
 "nbformat_minor": 5
}
